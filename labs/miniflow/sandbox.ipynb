{
 "cells": [
  {
   "cell_type": "code",
   "execution_count": 11,
   "metadata": {
    "collapsed": false,
    "scrolled": true
   },
   "outputs": [
    {
     "name": "stdout",
     "output_type": "stream",
     "text": [
      "Ign http://archive.ubuntu.com trusty InRelease\n",
      "Ign http://developer.download.nvidia.com  InRelease\n",
      "Get:1 http://archive.ubuntu.com trusty-updates InRelease [65.9 kB]\n",
      "Get:2 http://developer.download.nvidia.com  Release.gpg [819 B]\n",
      "Get:3 http://developer.download.nvidia.com  Release [564 B]\n",
      "Get:4 http://archive.ubuntu.com trusty-security InRelease [65.9 kB]\n",
      "Get:5 http://archive.ubuntu.com trusty Release.gpg [933 B]\n",
      "Get:6 http://developer.download.nvidia.com  Packages [22.5 kB]\n",
      "Get:7 http://archive.ubuntu.com trusty Release [58.5 kB]\n",
      "Get:8 http://archive.ubuntu.com trusty-updates/main Sources [482 kB]\n",
      "Get:9 http://archive.ubuntu.com trusty-updates/restricted Sources [5957 B]\n",
      "Get:10 http://archive.ubuntu.com trusty-updates/universe Sources [217 kB]\n",
      "Get:11 http://archive.ubuntu.com trusty-updates/main amd64 Packages [1173 kB]\n",
      "Get:12 http://archive.ubuntu.com trusty-updates/restricted amd64 Packages [20.4 kB]\n",
      "Get:13 http://archive.ubuntu.com trusty-updates/universe amd64 Packages [511 kB]\n",
      "Get:14 http://archive.ubuntu.com trusty-security/main Sources [158 kB]\n",
      "Get:15 http://archive.ubuntu.com trusty-security/restricted Sources [4667 B]\n",
      "Get:16 http://archive.ubuntu.com trusty-security/universe Sources [57.6 kB]\n",
      "Get:17 http://archive.ubuntu.com trusty-security/main amd64 Packages [711 kB]\n",
      "Get:18 http://archive.ubuntu.com trusty-security/restricted amd64 Packages [17.0 kB]\n",
      "Get:19 http://archive.ubuntu.com trusty-security/universe amd64 Packages [197 kB]\n",
      "Get:20 http://archive.ubuntu.com trusty/main Sources [1335 kB]\n",
      "Get:21 http://archive.ubuntu.com trusty/restricted Sources [5335 B]\n",
      "Get:22 http://archive.ubuntu.com trusty/universe Sources [7926 kB]\n",
      "Get:23 http://archive.ubuntu.com trusty/main amd64 Packages [1743 kB]\n",
      "Get:24 http://archive.ubuntu.com trusty/restricted amd64 Packages [16.0 kB]\n",
      "Get:25 http://archive.ubuntu.com trusty/universe amd64 Packages [7589 kB]\n",
      "Fetched 22.4 MB in 6s (3241 kB/s)\n",
      "Reading package lists... Done\n",
      "Reading package lists... Done\n",
      "Building dependency tree       \n",
      "Reading state information... Done\n",
      "The following extra packages will be installed:\n",
      "  acpid dbus dconf-gsettings-backend dconf-service dkms fontconfig\n",
      "  gir1.2-glib-2.0 lib32gcc1 libapparmor1 libatk-bridge2.0-0 libatk1.0-0\n",
      "  libatk1.0-data libatspi2.0-0 libavahi-client3 libavahi-common-data\n",
      "  libavahi-common3 libc6-i386 libcairo-gobject2 libcairo2 libcolord1\n",
      "  libcryptsetup4 libcuda1-367 libcups2 libdatrie1 libdconf1 libgdk-pixbuf2.0-0\n",
      "  libgdk-pixbuf2.0-common libgirepository-1.0-1 libgraphite2-3 libgtk-3-0\n",
      "  libgtk-3-common libgtk2.0-0 libgtk2.0-common libharfbuzz0b libjansson4\n",
      "  libjasper1 libjbig0 libjpeg-turbo8 libjpeg8 liblcms2-2 libpam-systemd\n",
      "  libpango-1.0-0 libpangocairo-1.0-0 libpangoft2-1.0-0 libpixman-1-0\n",
      "  libpolkit-agent-1-0 libpolkit-backend-1-0 libpolkit-gobject-1-0\n",
      "  libsystemd-daemon0 libsystemd-journal0 libsystemd-login0 libthai-data\n",
      "  libthai0 libtiff5 libvdpau1 libwayland-client0 libwayland-cursor0\n",
      "  libwayland-server0 libwrap0 libxcb-render0 libxcb-shm0 libxcursor1 libxfont1\n",
      "  libxkbcommon0 libxkbfile1 libxnvctrl0 nvidia-367 nvidia-367-dev\n",
      "  nvidia-modprobe nvidia-opencl-icd-367 nvidia-settings ocl-icd-libopencl1\n",
      "  pkg-config policykit-1 policykit-1-gnome python3-gi python3-xkit\n",
      "  screen-resolution-extra systemd systemd-services x11-xkb-utils\n",
      "  xserver-common xserver-xorg-core\n",
      "Suggested packages:\n",
      "  dbus-x11 debhelper cups-common librsvg2-common gvfs libjasper-runtime\n",
      "  liblcms2-utils ttf-baekmuk ttf-arphic-gbsn00lp ttf-arphic-bsmi00lp\n",
      "  ttf-arphic-gkai00mp ttf-arphic-bkai00mp nvidia-vdpau-driver vdpau-driver\n",
      "  opencl-icd systemd-ui cgmanager xfonts-100dpi xfonts-75dpi xfonts-scalable\n",
      "Recommended packages:\n",
      "  fakeroot at-spi2-core colord hicolor-icon-theme libgtk-3-bin libgtk2.0-bin\n",
      "  tcpd nvidia-prime bumblebee xfonts-base\n",
      "The following NEW packages will be installed:\n",
      "  acpid cuda-drivers dbus dconf-gsettings-backend dconf-service dkms\n",
      "  fontconfig gir1.2-glib-2.0 lib32gcc1 libapparmor1 libatk-bridge2.0-0\n",
      "  libatk1.0-0 libatk1.0-data libatspi2.0-0 libavahi-client3\n",
      "  libavahi-common-data libavahi-common3 libc6-i386 libcairo-gobject2 libcairo2\n",
      "  libcolord1 libcryptsetup4 libcuda1-367 libcups2 libdatrie1 libdconf1\n",
      "  libgdk-pixbuf2.0-0 libgdk-pixbuf2.0-common libgirepository-1.0-1\n",
      "  libgraphite2-3 libgtk-3-0 libgtk-3-common libgtk2.0-0 libgtk2.0-common\n",
      "  libharfbuzz0b libjansson4 libjasper1 libjbig0 libjpeg-turbo8 libjpeg8\n",
      "  liblcms2-2 libpam-systemd libpango-1.0-0 libpangocairo-1.0-0\n",
      "  libpangoft2-1.0-0 libpixman-1-0 libpolkit-agent-1-0 libpolkit-backend-1-0\n",
      "  libpolkit-gobject-1-0 libsystemd-daemon0 libsystemd-journal0\n",
      "  libsystemd-login0 libthai-data libthai0 libtiff5 libvdpau1\n",
      "  libwayland-client0 libwayland-cursor0 libwayland-server0 libwrap0\n",
      "  libxcb-render0 libxcb-shm0 libxcursor1 libxfont1 libxkbcommon0 libxkbfile1\n",
      "  libxnvctrl0 nvidia-367 nvidia-367-dev nvidia-modprobe nvidia-opencl-icd-367\n",
      "  nvidia-settings ocl-icd-libopencl1 pkg-config policykit-1 policykit-1-gnome\n",
      "  python3-gi python3-xkit screen-resolution-extra systemd systemd-services\n",
      "  x11-xkb-utils xserver-common xserver-xorg-core\n",
      "0 upgraded, 84 newly installed, 0 to remove and 17 not upgraded.\n",
      "Need to get 89.6 MB of archives.\n",
      "After this operation, 396 MB of additional disk space will be used.\n",
      "Get:1 http://developer.download.nvidia.com/compute/cuda/repos/ubuntu1604/x86_64/  nvidia-modprobe 367.48-0ubuntu1 [16.9 kB]\n",
      "Get:2 http://archive.ubuntu.com/ubuntu/ trusty-updates/main libsystemd-daemon0 amd64 204-5ubuntu20.21 [10.9 kB]\n",
      "Get:3 http://developer.download.nvidia.com/compute/cuda/repos/ubuntu1604/x86_64/  libxnvctrl0 367.48-0ubuntu1 [18.8 kB]\n",
      "Get:4 http://archive.ubuntu.com/ubuntu/ trusty-updates/main libapparmor1 amd64 2.10.95-0ubuntu2.5~14.04.1 [33.2 kB]\n",
      "Get:5 http://archive.ubuntu.com/ubuntu/ trusty-updates/main libsystemd-login0 amd64 204-5ubuntu20.21 [27.9 kB]\n",
      "Get:6 http://archive.ubuntu.com/ubuntu/ trusty-updates/main dbus amd64 1.6.18-0ubuntu4.5 [232 kB]\n",
      "Get:7 http://archive.ubuntu.com/ubuntu/ trusty/main libcryptsetup4 amd64 2:1.6.1-1ubuntu1 [77.0 kB]\n",
      "Get:8 http://archive.ubuntu.com/ubuntu/ trusty-updates/main libsystemd-journal0 amd64 204-5ubuntu20.21 [50.7 kB]\n",
      "Get:9 http://archive.ubuntu.com/ubuntu/ trusty/main libwrap0 amd64 7.6.q-25 [46.2 kB]\n",
      "Get:10 http://archive.ubuntu.com/ubuntu/ trusty-updates/main systemd amd64 204-5ubuntu20.21 [1016 kB]\n",
      "Get:11 http://archive.ubuntu.com/ubuntu/ trusty-updates/main systemd-services amd64 204-5ubuntu20.21 [197 kB]\n",
      "Get:12 http://archive.ubuntu.com/ubuntu/ trusty-updates/main libpam-systemd amd64 204-5ubuntu20.21 [25.5 kB]\n",
      "Get:13 http://archive.ubuntu.com/ubuntu/ trusty-updates/main libpolkit-gobject-1-0 amd64 0.105-4ubuntu3.14.04.1 [34.7 kB]\n",
      "Get:14 http://archive.ubuntu.com/ubuntu/ trusty/main libatk1.0-data all 2.10.0-2ubuntu2 [13.7 kB]\n",
      "Get:15 http://archive.ubuntu.com/ubuntu/ trusty/main libatk1.0-0 amd64 2.10.0-2ubuntu2 [50.9 kB]\n",
      "Get:16 http://archive.ubuntu.com/ubuntu/ trusty/main libatspi2.0-0 amd64 2.10.2.is.2.10.1-0ubuntu1 [53.1 kB]\n",
      "Get:17 http://archive.ubuntu.com/ubuntu/ trusty/main libatk-bridge2.0-0 amd64 2.10.2-2ubuntu1 [46.8 kB]\n",
      "Get:18 http://archive.ubuntu.com/ubuntu/ trusty-updates/main libavahi-common-data amd64 0.6.31-4ubuntu1.1 [21.2 kB]\n",
      "Get:19 http://archive.ubuntu.com/ubuntu/ trusty-updates/main libavahi-common3 amd64 0.6.31-4ubuntu1.1 [21.7 kB]\n",
      "Get:20 http://archive.ubuntu.com/ubuntu/ trusty-updates/main libavahi-client3 amd64 0.6.31-4ubuntu1.1 [25.1 kB]\n",
      "Get:21 http://archive.ubuntu.com/ubuntu/ trusty-updates/main libpixman-1-0 amd64 0.30.2-2ubuntu1.1 [225 kB]\n",
      "Get:22 http://archive.ubuntu.com/ubuntu/ trusty/main libxcb-render0 amd64 1.10-2ubuntu1 [11.0 kB]\n",
      "Get:23 http://archive.ubuntu.com/ubuntu/ trusty/main libxcb-shm0 amd64 1.10-2ubuntu1 [5432 B]\n",
      "Get:24 http://archive.ubuntu.com/ubuntu/ trusty-updates/main libcairo2 amd64 1.13.0~20140204-0ubuntu1.1 [535 kB]\n",
      "Get:25 http://archive.ubuntu.com/ubuntu/ trusty-updates/main libcairo-gobject2 amd64 1.13.0~20140204-0ubuntu1.1 [17.2 kB]\n",
      "Get:26 http://archive.ubuntu.com/ubuntu/ trusty-updates/main liblcms2-2 amd64 2.5-0ubuntu4.1 [131 kB]\n",
      "Get:27 http://archive.ubuntu.com/ubuntu/ trusty/main libcolord1 amd64 1.0.6-1 [83.1 kB]\n",
      "Get:28 http://archive.ubuntu.com/ubuntu/ trusty-updates/main libcups2 amd64 1.7.2-0ubuntu1.7 [179 kB]\n",
      "Get:29 http://archive.ubuntu.com/ubuntu/ trusty/main libdatrie1 amd64 0.2.8-1 [16.7 kB]\n",
      "Get:30 http://developer.download.nvidia.com/compute/cuda/repos/ubuntu1604/x86_64/  nvidia-settings 367.48-0ubuntu1 [866 kB]\n",
      "Get:31 http://archive.ubuntu.com/ubuntu/ trusty/main libdconf1 amd64 0.20.0-1 [31.5 kB]\n",
      "Get:32 http://archive.ubuntu.com/ubuntu/ trusty/main libjpeg-turbo8 amd64 1.3.0-0ubuntu2 [104 kB]\n",
      "Get:33 http://developer.download.nvidia.com/compute/cuda/repos/ubuntu1604/x86_64/  cuda-drivers 367.48-1 [2402 B]\n",
      "Get:34 http://archive.ubuntu.com/ubuntu/ trusty/main libjpeg8 amd64 8c-2ubuntu8 [2194 B]\n",
      "Get:35 http://archive.ubuntu.com/ubuntu/ trusty-updates/main libjasper1 amd64 1.900.1-14ubuntu3.3 [130 kB]\n",
      "Get:36 http://archive.ubuntu.com/ubuntu/ trusty-updates/main libjbig0 amd64 2.0-2ubuntu4.1 [26.1 kB]\n",
      "Get:37 http://archive.ubuntu.com/ubuntu/ trusty-updates/main libtiff5 amd64 4.0.3-7ubuntu0.4 [143 kB]\n",
      "Get:38 http://archive.ubuntu.com/ubuntu/ trusty-updates/main libgdk-pixbuf2.0-common all 2.30.7-0ubuntu1.6 [9066 B]\n",
      "Get:39 http://archive.ubuntu.com/ubuntu/ trusty-updates/main libgdk-pixbuf2.0-0 amd64 2.30.7-0ubuntu1.6 [160 kB]\n",
      "Get:40 http://archive.ubuntu.com/ubuntu/ trusty-updates/main libgraphite2-3 amd64 1.3.6-1ubuntu0.14.04.1 [71.3 kB]\n",
      "Get:41 http://archive.ubuntu.com/ubuntu/ trusty/main dconf-service amd64 0.20.0-1 [26.9 kB]\n",
      "Get:42 http://archive.ubuntu.com/ubuntu/ trusty/main dconf-gsettings-backend amd64 0.20.0-1 [19.3 kB]\n",
      "Get:43 http://archive.ubuntu.com/ubuntu/ trusty-updates/main libgtk-3-common all 3.10.8-0ubuntu1.6 [167 kB]\n",
      "Get:44 http://archive.ubuntu.com/ubuntu/ trusty/main libthai-data all 0.1.20-3 [130 kB]\n",
      "Get:45 http://archive.ubuntu.com/ubuntu/ trusty/main libthai0 amd64 0.1.20-3 [16.9 kB]\n",
      "Get:46 http://archive.ubuntu.com/ubuntu/ trusty-updates/main fontconfig amd64 2.11.0-0ubuntu4.2 [176 kB]\n",
      "Get:47 http://archive.ubuntu.com/ubuntu/ trusty-updates/main libpango-1.0-0 amd64 1.36.3-1ubuntu1.1 [149 kB]\n",
      "Get:48 http://archive.ubuntu.com/ubuntu/ trusty-updates/main libharfbuzz0b amd64 0.9.27-1ubuntu1.1 [127 kB]\n",
      "Get:49 http://archive.ubuntu.com/ubuntu/ trusty-updates/main libpangoft2-1.0-0 amd64 1.36.3-1ubuntu1.1 [32.7 kB]\n",
      "Get:50 http://archive.ubuntu.com/ubuntu/ trusty-updates/main libpangocairo-1.0-0 amd64 1.36.3-1ubuntu1.1 [20.0 kB]\n",
      "Get:51 http://archive.ubuntu.com/ubuntu/ trusty/main libwayland-client0 amd64 1.4.0-1ubuntu1 [22.1 kB]\n",
      "Get:52 http://archive.ubuntu.com/ubuntu/ trusty/main libwayland-cursor0 amd64 1.4.0-1ubuntu1 [9918 B]\n",
      "Get:53 http://archive.ubuntu.com/ubuntu/ trusty/main libxcursor1 amd64 1:1.1.14-1 [22.8 kB]\n",
      "Get:54 http://archive.ubuntu.com/ubuntu/ trusty/main libxkbcommon0 amd64 0.4.1-0ubuntu1 [87.9 kB]\n",
      "Get:55 http://archive.ubuntu.com/ubuntu/ trusty-updates/main libgtk-3-0 amd64 3.10.8-0ubuntu1.6 [1960 kB]\n",
      "Get:56 http://archive.ubuntu.com/ubuntu/ trusty-updates/main libgtk2.0-common all 2.24.23-0ubuntu1.4 [121 kB]\n",
      "Get:57 http://archive.ubuntu.com/ubuntu/ trusty-updates/main libgtk2.0-0 amd64 2.24.23-0ubuntu1.4 [1739 kB]\n",
      "Get:58 http://archive.ubuntu.com/ubuntu/ trusty/universe libjansson4 amd64 2.5-2 [25.2 kB]\n",
      "Get:59 http://archive.ubuntu.com/ubuntu/ trusty-updates/main libpolkit-agent-1-0 amd64 0.105-4ubuntu3.14.04.1 [14.8 kB]\n",
      "Get:60 http://archive.ubuntu.com/ubuntu/ trusty-updates/main libpolkit-backend-1-0 amd64 0.105-4ubuntu3.14.04.1 [34.6 kB]\n",
      "Get:61 http://archive.ubuntu.com/ubuntu/ trusty-updates/main libvdpau1 amd64 0.7-1ubuntu0.1 [23.9 kB]\n",
      "Get:62 http://archive.ubuntu.com/ubuntu/ trusty/main libwayland-server0 amd64 1.4.0-1ubuntu1 [27.1 kB]\n",
      "Get:63 http://archive.ubuntu.com/ubuntu/ trusty-updates/main libxfont1 amd64 1:1.4.7-1ubuntu0.2 [95.0 kB]\n",
      "Get:64 http://archive.ubuntu.com/ubuntu/ trusty/main libxkbfile1 amd64 1:1.0.8-1 [74.2 kB]\n",
      "Get:65 http://archive.ubuntu.com/ubuntu/ trusty/universe ocl-icd-libopencl1 amd64 2.1.3-4 [28.1 kB]\n",
      "Get:66 http://archive.ubuntu.com/ubuntu/ trusty-updates/main libgirepository-1.0-1 amd64 1.40.0-1ubuntu0.2 [85.6 kB]\n",
      "Get:67 http://archive.ubuntu.com/ubuntu/ trusty-updates/main gir1.2-glib-2.0 amd64 1.40.0-1ubuntu0.2 [124 kB]\n",
      "Get:68 http://archive.ubuntu.com/ubuntu/ trusty-updates/main python3-gi amd64 3.12.0-1ubuntu1 [154 kB]\n",
      "Get:69 http://archive.ubuntu.com/ubuntu/ trusty/main acpid amd64 1:2.0.21-1ubuntu2 [35.0 kB]\n",
      "Get:70 http://archive.ubuntu.com/ubuntu/ trusty-updates/main dkms all 2.2.0.3-1.1ubuntu5.14.04.9 [65.7 kB]\n",
      "Get:71 http://archive.ubuntu.com/ubuntu/ trusty-updates/main libc6-i386 amd64 2.19-0ubuntu6.9 [2201 kB]\n",
      "Get:72 http://archive.ubuntu.com/ubuntu/ trusty-updates/main lib32gcc1 amd64 1:4.9.3-0ubuntu4 [47.8 kB]\n",
      "Get:73 http://archive.ubuntu.com/ubuntu/ trusty/main x11-xkb-utils amd64 7.7+1 [156 kB]\n",
      "Get:74 http://archive.ubuntu.com/ubuntu/ trusty-updates/main xserver-common all 2:1.15.1-0ubuntu2.7 [27.9 kB]\n",
      "Get:75 http://archive.ubuntu.com/ubuntu/ trusty-updates/main xserver-xorg-core amd64 2:1.15.1-0ubuntu2.7 [1228 kB]\n",
      "Get:76 http://archive.ubuntu.com/ubuntu/ trusty-updates/restricted nvidia-367 amd64 367.57-0ubuntu0.14.04.1 [69.8 MB]\n",
      "Get:77 http://archive.ubuntu.com/ubuntu/ trusty-updates/restricted nvidia-367-dev amd64 367.57-0ubuntu0.14.04.1 [80.8 kB]\n",
      "Get:78 http://archive.ubuntu.com/ubuntu/ trusty-updates/restricted libcuda1-367 amd64 367.57-0ubuntu0.14.04.1 [2708 kB]\n",
      "Get:79 http://archive.ubuntu.com/ubuntu/ trusty/main pkg-config amd64 0.26-1ubuntu4 [40.9 kB]\n",
      "Get:80 http://archive.ubuntu.com/ubuntu/ trusty/main python3-xkit all 0.5.0ubuntu2 [18.6 kB]\n",
      "Get:81 http://archive.ubuntu.com/ubuntu/ trusty-updates/main policykit-1 amd64 0.105-4ubuntu3.14.04.1 [51.3 kB]\n",
      "Get:82 http://archive.ubuntu.com/ubuntu/ trusty/main policykit-1-gnome amd64 0.105-1ubuntu4 [27.8 kB]\n",
      "Get:83 http://archive.ubuntu.com/ubuntu/ trusty/main screen-resolution-extra all 0.17.1 [11.4 kB]\n",
      "Get:84 http://archive.ubuntu.com/ubuntu/ trusty-updates/restricted nvidia-opencl-icd-367 amd64 367.57-0ubuntu0.14.04.1 [2901 kB]\n",
      "Fetched 89.6 MB in 20s (4476 kB/s)\n",
      "Extracting templates from packages: 100%\n",
      "Selecting previously unselected package libsystemd-daemon0:amd64.\n",
      "(Reading database ... 20061 files and directories currently installed.)\n",
      "Preparing to unpack .../libsystemd-daemon0_204-5ubuntu20.21_amd64.deb ...\n",
      "Unpacking libsystemd-daemon0:amd64 (204-5ubuntu20.21) ...\n",
      "Selecting previously unselected package libapparmor1:amd64.\n",
      "Preparing to unpack .../libapparmor1_2.10.95-0ubuntu2.5~14.04.1_amd64.deb ...\n",
      "Unpacking libapparmor1:amd64 (2.10.95-0ubuntu2.5~14.04.1) ...\n",
      "Selecting previously unselected package libsystemd-login0:amd64.\n",
      "Preparing to unpack .../libsystemd-login0_204-5ubuntu20.21_amd64.deb ...\n",
      "Unpacking libsystemd-login0:amd64 (204-5ubuntu20.21) ...\n",
      "Selecting previously unselected package dbus.\n",
      "Preparing to unpack .../dbus_1.6.18-0ubuntu4.5_amd64.deb ...\n",
      "Unpacking dbus (1.6.18-0ubuntu4.5) ...\n",
      "Selecting previously unselected package libcryptsetup4.\n",
      "Preparing to unpack .../libcryptsetup4_2%3a1.6.1-1ubuntu1_amd64.deb ...\n",
      "Unpacking libcryptsetup4 (2:1.6.1-1ubuntu1) ...\n",
      "Selecting previously unselected package libsystemd-journal0:amd64.\n",
      "Preparing to unpack .../libsystemd-journal0_204-5ubuntu20.21_amd64.deb ...\n",
      "Unpacking libsystemd-journal0:amd64 (204-5ubuntu20.21) ...\n",
      "Selecting previously unselected package libwrap0:amd64.\n",
      "Preparing to unpack .../libwrap0_7.6.q-25_amd64.deb ...\n",
      "Unpacking libwrap0:amd64 (7.6.q-25) ...\n",
      "Selecting previously unselected package systemd.\n",
      "Preparing to unpack .../systemd_204-5ubuntu20.21_amd64.deb ...\n",
      "Unpacking systemd (204-5ubuntu20.21) ...\n",
      "Selecting previously unselected package systemd-services.\n",
      "Preparing to unpack .../systemd-services_204-5ubuntu20.21_amd64.deb ...\n",
      "Unpacking systemd-services (204-5ubuntu20.21) ...\n",
      "Selecting previously unselected package libpam-systemd:amd64.\n",
      "Preparing to unpack .../libpam-systemd_204-5ubuntu20.21_amd64.deb ...\n",
      "Unpacking libpam-systemd:amd64 (204-5ubuntu20.21) ...\n",
      "Selecting previously unselected package libpolkit-gobject-1-0:amd64.\n",
      "Preparing to unpack .../libpolkit-gobject-1-0_0.105-4ubuntu3.14.04.1_amd64.deb ...\n",
      "Unpacking libpolkit-gobject-1-0:amd64 (0.105-4ubuntu3.14.04.1) ...\n",
      "Selecting previously unselected package libatk1.0-data.\n",
      "Preparing to unpack .../libatk1.0-data_2.10.0-2ubuntu2_all.deb ...\n",
      "Unpacking libatk1.0-data (2.10.0-2ubuntu2) ...\n",
      "Selecting previously unselected package libatk1.0-0:amd64.\n",
      "Preparing to unpack .../libatk1.0-0_2.10.0-2ubuntu2_amd64.deb ...\n",
      "Unpacking libatk1.0-0:amd64 (2.10.0-2ubuntu2) ...\n",
      "Selecting previously unselected package libatspi2.0-0:amd64.\n",
      "Preparing to unpack .../libatspi2.0-0_2.10.2.is.2.10.1-0ubuntu1_amd64.deb ...\n",
      "Unpacking libatspi2.0-0:amd64 (2.10.2.is.2.10.1-0ubuntu1) ...\n",
      "Selecting previously unselected package libatk-bridge2.0-0:amd64.\n",
      "Preparing to unpack .../libatk-bridge2.0-0_2.10.2-2ubuntu1_amd64.deb ...\n",
      "Unpacking libatk-bridge2.0-0:amd64 (2.10.2-2ubuntu1) ...\n",
      "Selecting previously unselected package libavahi-common-data:amd64.\n",
      "Preparing to unpack .../libavahi-common-data_0.6.31-4ubuntu1.1_amd64.deb ...\n",
      "Unpacking libavahi-common-data:amd64 (0.6.31-4ubuntu1.1) ...\n",
      "Selecting previously unselected package libavahi-common3:amd64.\n",
      "Preparing to unpack .../libavahi-common3_0.6.31-4ubuntu1.1_amd64.deb ...\n",
      "Unpacking libavahi-common3:amd64 (0.6.31-4ubuntu1.1) ...\n",
      "Selecting previously unselected package libavahi-client3:amd64.\n",
      "Preparing to unpack .../libavahi-client3_0.6.31-4ubuntu1.1_amd64.deb ...\n",
      "Unpacking libavahi-client3:amd64 (0.6.31-4ubuntu1.1) ...\n",
      "Selecting previously unselected package libpixman-1-0:amd64.\n",
      "Preparing to unpack .../libpixman-1-0_0.30.2-2ubuntu1.1_amd64.deb ...\n",
      "Unpacking libpixman-1-0:amd64 (0.30.2-2ubuntu1.1) ...\n",
      "Selecting previously unselected package libxcb-render0:amd64.\n",
      "Preparing to unpack .../libxcb-render0_1.10-2ubuntu1_amd64.deb ...\n",
      "Unpacking libxcb-render0:amd64 (1.10-2ubuntu1) ...\n",
      "Selecting previously unselected package libxcb-shm0:amd64.\n",
      "Preparing to unpack .../libxcb-shm0_1.10-2ubuntu1_amd64.deb ...\n",
      "Unpacking libxcb-shm0:amd64 (1.10-2ubuntu1) ...\n",
      "Selecting previously unselected package libcairo2:amd64.\n",
      "Preparing to unpack .../libcairo2_1.13.0~20140204-0ubuntu1.1_amd64.deb ...\n",
      "Unpacking libcairo2:amd64 (1.13.0~20140204-0ubuntu1.1) ...\n",
      "Selecting previously unselected package libcairo-gobject2:amd64.\n",
      "Preparing to unpack .../libcairo-gobject2_1.13.0~20140204-0ubuntu1.1_amd64.deb ...\n",
      "Unpacking libcairo-gobject2:amd64 (1.13.0~20140204-0ubuntu1.1) ...\n",
      "Selecting previously unselected package liblcms2-2:amd64.\n",
      "Preparing to unpack .../liblcms2-2_2.5-0ubuntu4.1_amd64.deb ...\n",
      "Unpacking liblcms2-2:amd64 (2.5-0ubuntu4.1) ...\n",
      "Selecting previously unselected package libcolord1:amd64.\n",
      "Preparing to unpack .../libcolord1_1.0.6-1_amd64.deb ...\n",
      "Unpacking libcolord1:amd64 (1.0.6-1) ...\n",
      "Selecting previously unselected package libcups2:amd64.\n",
      "Preparing to unpack .../libcups2_1.7.2-0ubuntu1.7_amd64.deb ...\n",
      "Unpacking libcups2:amd64 (1.7.2-0ubuntu1.7) ...\n",
      "Selecting previously unselected package libdatrie1:amd64.\n",
      "Preparing to unpack .../libdatrie1_0.2.8-1_amd64.deb ...\n",
      "Unpacking libdatrie1:amd64 (0.2.8-1) ...\n",
      "Selecting previously unselected package libdconf1:amd64.\n",
      "Preparing to unpack .../libdconf1_0.20.0-1_amd64.deb ...\n",
      "Unpacking libdconf1:amd64 (0.20.0-1) ...\n",
      "Selecting previously unselected package libjpeg-turbo8:amd64.\n",
      "Preparing to unpack .../libjpeg-turbo8_1.3.0-0ubuntu2_amd64.deb ...\n",
      "Unpacking libjpeg-turbo8:amd64 (1.3.0-0ubuntu2) ...\n",
      "Selecting previously unselected package libjpeg8:amd64.\n",
      "Preparing to unpack .../libjpeg8_8c-2ubuntu8_amd64.deb ...\n",
      "Unpacking libjpeg8:amd64 (8c-2ubuntu8) ...\n",
      "Selecting previously unselected package libjasper1:amd64.\n",
      "Preparing to unpack .../libjasper1_1.900.1-14ubuntu3.3_amd64.deb ...\n",
      "Unpacking libjasper1:amd64 (1.900.1-14ubuntu3.3) ...\n",
      "Selecting previously unselected package libjbig0:amd64.\n",
      "Preparing to unpack .../libjbig0_2.0-2ubuntu4.1_amd64.deb ...\n",
      "Unpacking libjbig0:amd64 (2.0-2ubuntu4.1) ...\n",
      "Selecting previously unselected package libtiff5:amd64.\n",
      "Preparing to unpack .../libtiff5_4.0.3-7ubuntu0.4_amd64.deb ...\n",
      "Unpacking libtiff5:amd64 (4.0.3-7ubuntu0.4) ...\n",
      "Selecting previously unselected package libgdk-pixbuf2.0-common.\n",
      "Preparing to unpack .../libgdk-pixbuf2.0-common_2.30.7-0ubuntu1.6_all.deb ...\n",
      "Unpacking libgdk-pixbuf2.0-common (2.30.7-0ubuntu1.6) ...\n",
      "Selecting previously unselected package libgdk-pixbuf2.0-0:amd64.\n",
      "Preparing to unpack .../libgdk-pixbuf2.0-0_2.30.7-0ubuntu1.6_amd64.deb ...\n",
      "Unpacking libgdk-pixbuf2.0-0:amd64 (2.30.7-0ubuntu1.6) ...\n",
      "Selecting previously unselected package libgraphite2-3:amd64.\n",
      "Preparing to unpack .../libgraphite2-3_1.3.6-1ubuntu0.14.04.1_amd64.deb ...\n",
      "Unpacking libgraphite2-3:amd64 (1.3.6-1ubuntu0.14.04.1) ...\n",
      "Selecting previously unselected package dconf-service.\n",
      "Preparing to unpack .../dconf-service_0.20.0-1_amd64.deb ...\n",
      "Unpacking dconf-service (0.20.0-1) ...\n",
      "Selecting previously unselected package dconf-gsettings-backend:amd64.\n",
      "Preparing to unpack .../dconf-gsettings-backend_0.20.0-1_amd64.deb ...\n",
      "Unpacking dconf-gsettings-backend:amd64 (0.20.0-1) ...\n",
      "Selecting previously unselected package libgtk-3-common.\n",
      "Preparing to unpack .../libgtk-3-common_3.10.8-0ubuntu1.6_all.deb ...\n",
      "Unpacking libgtk-3-common (3.10.8-0ubuntu1.6) ...\n",
      "Selecting previously unselected package libthai-data.\n",
      "Preparing to unpack .../libthai-data_0.1.20-3_all.deb ...\n",
      "Unpacking libthai-data (0.1.20-3) ...\n",
      "Selecting previously unselected package libthai0:amd64.\n",
      "Preparing to unpack .../libthai0_0.1.20-3_amd64.deb ...\n",
      "Unpacking libthai0:amd64 (0.1.20-3) ...\n",
      "Selecting previously unselected package fontconfig.\n",
      "Preparing to unpack .../fontconfig_2.11.0-0ubuntu4.2_amd64.deb ...\n",
      "Unpacking fontconfig (2.11.0-0ubuntu4.2) ...\n",
      "Selecting previously unselected package libpango-1.0-0:amd64.\n",
      "Preparing to unpack .../libpango-1.0-0_1.36.3-1ubuntu1.1_amd64.deb ...\n",
      "Unpacking libpango-1.0-0:amd64 (1.36.3-1ubuntu1.1) ...\n",
      "Selecting previously unselected package libharfbuzz0b:amd64.\n",
      "Preparing to unpack .../libharfbuzz0b_0.9.27-1ubuntu1.1_amd64.deb ...\n",
      "Unpacking libharfbuzz0b:amd64 (0.9.27-1ubuntu1.1) ...\n",
      "Selecting previously unselected package libpangoft2-1.0-0:amd64.\n",
      "Preparing to unpack .../libpangoft2-1.0-0_1.36.3-1ubuntu1.1_amd64.deb ...\n",
      "Unpacking libpangoft2-1.0-0:amd64 (1.36.3-1ubuntu1.1) ...\n",
      "Selecting previously unselected package libpangocairo-1.0-0:amd64.\n",
      "Preparing to unpack .../libpangocairo-1.0-0_1.36.3-1ubuntu1.1_amd64.deb ...\n",
      "Unpacking libpangocairo-1.0-0:amd64 (1.36.3-1ubuntu1.1) ...\n",
      "Selecting previously unselected package libwayland-client0:amd64.\n",
      "Preparing to unpack .../libwayland-client0_1.4.0-1ubuntu1_amd64.deb ...\n",
      "Unpacking libwayland-client0:amd64 (1.4.0-1ubuntu1) ...\n",
      "Selecting previously unselected package libwayland-cursor0:amd64.\n",
      "Preparing to unpack .../libwayland-cursor0_1.4.0-1ubuntu1_amd64.deb ...\n",
      "Unpacking libwayland-cursor0:amd64 (1.4.0-1ubuntu1) ...\n",
      "Selecting previously unselected package libxcursor1:amd64.\n",
      "Preparing to unpack .../libxcursor1_1%3a1.1.14-1_amd64.deb ...\n",
      "Unpacking libxcursor1:amd64 (1:1.1.14-1) ...\n",
      "Selecting previously unselected package libxkbcommon0:amd64.\n",
      "Preparing to unpack .../libxkbcommon0_0.4.1-0ubuntu1_amd64.deb ...\n",
      "Unpacking libxkbcommon0:amd64 (0.4.1-0ubuntu1) ...\n",
      "Selecting previously unselected package libgtk-3-0:amd64.\n",
      "Preparing to unpack .../libgtk-3-0_3.10.8-0ubuntu1.6_amd64.deb ...\n",
      "Unpacking libgtk-3-0:amd64 (3.10.8-0ubuntu1.6) ...\n",
      "Selecting previously unselected package libgtk2.0-common.\n",
      "Preparing to unpack .../libgtk2.0-common_2.24.23-0ubuntu1.4_all.deb ...\n",
      "Unpacking libgtk2.0-common (2.24.23-0ubuntu1.4) ...\n",
      "Selecting previously unselected package libgtk2.0-0:amd64.\n",
      "Preparing to unpack .../libgtk2.0-0_2.24.23-0ubuntu1.4_amd64.deb ...\n",
      "Unpacking libgtk2.0-0:amd64 (2.24.23-0ubuntu1.4) ...\n",
      "Selecting previously unselected package libjansson4:amd64.\n",
      "Preparing to unpack .../libjansson4_2.5-2_amd64.deb ...\n",
      "Unpacking libjansson4:amd64 (2.5-2) ...\n",
      "Selecting previously unselected package libpolkit-agent-1-0:amd64.\n",
      "Preparing to unpack .../libpolkit-agent-1-0_0.105-4ubuntu3.14.04.1_amd64.deb ...\n",
      "Unpacking libpolkit-agent-1-0:amd64 (0.105-4ubuntu3.14.04.1) ...\n",
      "Selecting previously unselected package libpolkit-backend-1-0:amd64.\n",
      "Preparing to unpack .../libpolkit-backend-1-0_0.105-4ubuntu3.14.04.1_amd64.deb ...\n",
      "Unpacking libpolkit-backend-1-0:amd64 (0.105-4ubuntu3.14.04.1) ...\n",
      "Selecting previously unselected package libvdpau1:amd64.\n",
      "Preparing to unpack .../libvdpau1_0.7-1ubuntu0.1_amd64.deb ...\n",
      "Unpacking libvdpau1:amd64 (0.7-1ubuntu0.1) ...\n",
      "Selecting previously unselected package libwayland-server0:amd64.\n",
      "Preparing to unpack .../libwayland-server0_1.4.0-1ubuntu1_amd64.deb ...\n",
      "Unpacking libwayland-server0:amd64 (1.4.0-1ubuntu1) ...\n",
      "Selecting previously unselected package libxfont1:amd64.\n",
      "Preparing to unpack .../libxfont1_1%3a1.4.7-1ubuntu0.2_amd64.deb ...\n",
      "Unpacking libxfont1:amd64 (1:1.4.7-1ubuntu0.2) ...\n",
      "Selecting previously unselected package libxkbfile1:amd64.\n",
      "Preparing to unpack .../libxkbfile1_1%3a1.0.8-1_amd64.deb ...\n",
      "Unpacking libxkbfile1:amd64 (1:1.0.8-1) ...\n",
      "Selecting previously unselected package ocl-icd-libopencl1:amd64.\n",
      "Preparing to unpack .../ocl-icd-libopencl1_2.1.3-4_amd64.deb ...\n",
      "Unpacking ocl-icd-libopencl1:amd64 (2.1.3-4) ...\n",
      "Selecting previously unselected package libgirepository-1.0-1.\n",
      "Preparing to unpack .../libgirepository-1.0-1_1.40.0-1ubuntu0.2_amd64.deb ...\n",
      "Unpacking libgirepository-1.0-1 (1.40.0-1ubuntu0.2) ...\n",
      "Selecting previously unselected package gir1.2-glib-2.0.\n",
      "Preparing to unpack .../gir1.2-glib-2.0_1.40.0-1ubuntu0.2_amd64.deb ...\n",
      "Unpacking gir1.2-glib-2.0 (1.40.0-1ubuntu0.2) ...\n",
      "Selecting previously unselected package python3-gi.\n",
      "Preparing to unpack .../python3-gi_3.12.0-1ubuntu1_amd64.deb ...\n",
      "Unpacking python3-gi (3.12.0-1ubuntu1) ...\n",
      "Selecting previously unselected package acpid.\n",
      "Preparing to unpack .../acpid_1%3a2.0.21-1ubuntu2_amd64.deb ...\n",
      "Unpacking acpid (1:2.0.21-1ubuntu2) ...\n",
      "Selecting previously unselected package dkms.\n",
      "Preparing to unpack .../dkms_2.2.0.3-1.1ubuntu5.14.04.9_all.deb ...\n",
      "Unpacking dkms (2.2.0.3-1.1ubuntu5.14.04.9) ...\n",
      "Selecting previously unselected package libc6-i386.\n",
      "Preparing to unpack .../libc6-i386_2.19-0ubuntu6.9_amd64.deb ...\n",
      "Unpacking libc6-i386 (2.19-0ubuntu6.9) ...\n",
      "Selecting previously unselected package lib32gcc1.\n",
      "Preparing to unpack .../lib32gcc1_1%3a4.9.3-0ubuntu4_amd64.deb ...\n",
      "Unpacking lib32gcc1 (1:4.9.3-0ubuntu4) ...\n",
      "Selecting previously unselected package x11-xkb-utils.\n",
      "Preparing to unpack .../x11-xkb-utils_7.7+1_amd64.deb ...\n",
      "Unpacking x11-xkb-utils (7.7+1) ...\n",
      "Selecting previously unselected package xserver-common.\n",
      "Preparing to unpack .../xserver-common_2%3a1.15.1-0ubuntu2.7_all.deb ...\n",
      "Unpacking xserver-common (2:1.15.1-0ubuntu2.7) ...\n",
      "Selecting previously unselected package xserver-xorg-core.\n",
      "Preparing to unpack .../xserver-xorg-core_2%3a1.15.1-0ubuntu2.7_amd64.deb ...\n",
      "Unpacking xserver-xorg-core (2:1.15.1-0ubuntu2.7) ...\n",
      "Selecting previously unselected package nvidia-367.\n",
      "Preparing to unpack .../nvidia-367_367.57-0ubuntu0.14.04.1_amd64.deb ...\n",
      "Unpacking nvidia-367 (367.57-0ubuntu0.14.04.1) ...\n",
      "Selecting previously unselected package nvidia-367-dev.\n",
      "Preparing to unpack .../nvidia-367-dev_367.57-0ubuntu0.14.04.1_amd64.deb ...\n",
      "Unpacking nvidia-367-dev (367.57-0ubuntu0.14.04.1) ...\n",
      "Selecting previously unselected package libcuda1-367.\n",
      "Preparing to unpack .../libcuda1-367_367.57-0ubuntu0.14.04.1_amd64.deb ...\n",
      "Unpacking libcuda1-367 (367.57-0ubuntu0.14.04.1) ...\n",
      "Selecting previously unselected package nvidia-modprobe.\n",
      "Preparing to unpack .../nvidia-modprobe_367.48-0ubuntu1_amd64.deb ...\n",
      "Unpacking nvidia-modprobe (367.48-0ubuntu1) ...\n",
      "Selecting previously unselected package pkg-config.\n",
      "Preparing to unpack .../pkg-config_0.26-1ubuntu4_amd64.deb ...\n",
      "Unpacking pkg-config (0.26-1ubuntu4) ...\n",
      "Selecting previously unselected package python3-xkit.\n",
      "Preparing to unpack .../python3-xkit_0.5.0ubuntu2_all.deb ...\n",
      "Unpacking python3-xkit (0.5.0ubuntu2) ...\n",
      "Selecting previously unselected package policykit-1.\n",
      "Preparing to unpack .../policykit-1_0.105-4ubuntu3.14.04.1_amd64.deb ...\n",
      "Unpacking policykit-1 (0.105-4ubuntu3.14.04.1) ...\n",
      "Selecting previously unselected package policykit-1-gnome.\n",
      "Preparing to unpack .../policykit-1-gnome_0.105-1ubuntu4_amd64.deb ...\n",
      "Unpacking policykit-1-gnome (0.105-1ubuntu4) ...\n",
      "Selecting previously unselected package screen-resolution-extra.\n",
      "Preparing to unpack .../screen-resolution-extra_0.17.1_all.deb ...\n",
      "Unpacking screen-resolution-extra (0.17.1) ...\n",
      "Selecting previously unselected package libxnvctrl0.\n",
      "Preparing to unpack .../libxnvctrl0_367.48-0ubuntu1_amd64.deb ...\n",
      "Unpacking libxnvctrl0 (367.48-0ubuntu1) ...\n",
      "Selecting previously unselected package nvidia-settings.\n",
      "Preparing to unpack .../nvidia-settings_367.48-0ubuntu1_amd64.deb ...\n",
      "Unpacking nvidia-settings (367.48-0ubuntu1) ...\n",
      "Selecting previously unselected package nvidia-opencl-icd-367.\n",
      "Preparing to unpack .../nvidia-opencl-icd-367_367.57-0ubuntu0.14.04.1_amd64.deb ...\n",
      "Unpacking nvidia-opencl-icd-367 (367.57-0ubuntu0.14.04.1) ...\n",
      "Selecting previously unselected package cuda-drivers.\n",
      "Preparing to unpack .../cuda-drivers_367.48-1_amd64.deb ...\n",
      "Unpacking cuda-drivers (367.48-1) ...\n",
      "Processing triggers for ureadahead (0.100.0-16) ...\n",
      "Processing triggers for libglib2.0-0:amd64 (2.40.2-0ubuntu1) ...\n",
      "Processing triggers for libc-bin (2.19-0ubuntu6.9) ...\n",
      "Processing triggers for mime-support (3.54ubuntu1.1) ...\n",
      "Setting up libsystemd-daemon0:amd64 (204-5ubuntu20.21) ...\n",
      "Setting up libapparmor1:amd64 (2.10.95-0ubuntu2.5~14.04.1) ...\n",
      "Setting up libsystemd-login0:amd64 (204-5ubuntu20.21) ...\n",
      "Setting up dbus (1.6.18-0ubuntu4.5) ...\n",
      "invoke-rc.d: policy-rc.d denied execution of start.\n",
      "Setting up libcryptsetup4 (2:1.6.1-1ubuntu1) ...\n",
      "Setting up libsystemd-journal0:amd64 (204-5ubuntu20.21) ...\n",
      "Setting up libwrap0:amd64 (7.6.q-25) ...\n",
      "Setting up libpolkit-gobject-1-0:amd64 (0.105-4ubuntu3.14.04.1) ...\n",
      "Setting up libatk1.0-data (2.10.0-2ubuntu2) ...\n",
      "Setting up libatk1.0-0:amd64 (2.10.0-2ubuntu2) ...\n",
      "Setting up libatspi2.0-0:amd64 (2.10.2.is.2.10.1-0ubuntu1) ...\n",
      "Setting up libatk-bridge2.0-0:amd64 (2.10.2-2ubuntu1) ...\n",
      "Setting up libavahi-common-data:amd64 (0.6.31-4ubuntu1.1) ...\n",
      "Setting up libavahi-common3:amd64 (0.6.31-4ubuntu1.1) ...\n",
      "Setting up libavahi-client3:amd64 (0.6.31-4ubuntu1.1) ...\n",
      "Setting up libpixman-1-0:amd64 (0.30.2-2ubuntu1.1) ...\n",
      "Setting up libxcb-render0:amd64 (1.10-2ubuntu1) ...\n",
      "Setting up libxcb-shm0:amd64 (1.10-2ubuntu1) ...\n",
      "Setting up libcairo2:amd64 (1.13.0~20140204-0ubuntu1.1) ...\n",
      "Setting up libcairo-gobject2:amd64 (1.13.0~20140204-0ubuntu1.1) ...\n",
      "Setting up liblcms2-2:amd64 (2.5-0ubuntu4.1) ...\n",
      "Setting up libcolord1:amd64 (1.0.6-1) ...\n",
      "Setting up libcups2:amd64 (1.7.2-0ubuntu1.7) ...\n",
      "Setting up libdatrie1:amd64 (0.2.8-1) ...\n",
      "Setting up libdconf1:amd64 (0.20.0-1) ...\n",
      "Setting up libjpeg-turbo8:amd64 (1.3.0-0ubuntu2) ...\n",
      "Setting up libjpeg8:amd64 (8c-2ubuntu8) ...\n",
      "Setting up libjasper1:amd64 (1.900.1-14ubuntu3.3) ...\n",
      "Setting up libjbig0:amd64 (2.0-2ubuntu4.1) ...\n",
      "Setting up libtiff5:amd64 (4.0.3-7ubuntu0.4) ...\n",
      "Setting up libgdk-pixbuf2.0-common (2.30.7-0ubuntu1.6) ...\n",
      "Setting up libgdk-pixbuf2.0-0:amd64 (2.30.7-0ubuntu1.6) ...\n",
      "Setting up libgraphite2-3:amd64 (1.3.6-1ubuntu0.14.04.1) ...\n",
      "Setting up dconf-service (0.20.0-1) ...\n",
      "Setting up dconf-gsettings-backend:amd64 (0.20.0-1) ...\n",
      "Setting up libgtk-3-common (3.10.8-0ubuntu1.6) ...\n",
      "Setting up libthai-data (0.1.20-3) ...\n",
      "Setting up libthai0:amd64 (0.1.20-3) ...\n",
      "Setting up fontconfig (2.11.0-0ubuntu4.2) ...\n",
      "Regenerating fonts cache... done.\n",
      "Setting up libpango-1.0-0:amd64 (1.36.3-1ubuntu1.1) ...\n",
      "Setting up libharfbuzz0b:amd64 (0.9.27-1ubuntu1.1) ...\n",
      "Setting up libpangoft2-1.0-0:amd64 (1.36.3-1ubuntu1.1) ...\n",
      "Setting up libpangocairo-1.0-0:amd64 (1.36.3-1ubuntu1.1) ...\n",
      "Setting up libwayland-client0:amd64 (1.4.0-1ubuntu1) ...\n",
      "Setting up libwayland-cursor0:amd64 (1.4.0-1ubuntu1) ...\n",
      "Setting up libxcursor1:amd64 (1:1.1.14-1) ...\n",
      "Setting up libxkbcommon0:amd64 (0.4.1-0ubuntu1) ...\n",
      "Setting up libgtk-3-0:amd64 (3.10.8-0ubuntu1.6) ...\n",
      "Setting up libgtk2.0-common (2.24.23-0ubuntu1.4) ...\n",
      "Setting up libgtk2.0-0:amd64 (2.24.23-0ubuntu1.4) ...\n",
      "Setting up libjansson4:amd64 (2.5-2) ...\n",
      "Setting up libpolkit-agent-1-0:amd64 (0.105-4ubuntu3.14.04.1) ...\n",
      "Setting up libpolkit-backend-1-0:amd64 (0.105-4ubuntu3.14.04.1) ...\n",
      "Setting up libvdpau1:amd64 (0.7-1ubuntu0.1) ...\n",
      "Setting up libwayland-server0:amd64 (1.4.0-1ubuntu1) ...\n",
      "Setting up libxfont1:amd64 (1:1.4.7-1ubuntu0.2) ...\n",
      "Setting up libxkbfile1:amd64 (1:1.0.8-1) ...\n",
      "Setting up ocl-icd-libopencl1:amd64 (2.1.3-4) ...\n",
      "Setting up libgirepository-1.0-1 (1.40.0-1ubuntu0.2) ...\n",
      "Setting up gir1.2-glib-2.0 (1.40.0-1ubuntu0.2) ...\n",
      "Setting up python3-gi (3.12.0-1ubuntu1) ...\n",
      "Setting up acpid (1:2.0.21-1ubuntu2) ...\n",
      "invoke-rc.d: policy-rc.d denied execution of start.\n",
      "Setting up dkms (2.2.0.3-1.1ubuntu5.14.04.9) ...\n",
      "Setting up libc6-i386 (2.19-0ubuntu6.9) ...\n",
      "Setting up lib32gcc1 (1:4.9.3-0ubuntu4) ...\n",
      "Setting up x11-xkb-utils (7.7+1) ...\n",
      "Setting up xserver-common (2:1.15.1-0ubuntu2.7) ...\n",
      "Setting up xserver-xorg-core (2:1.15.1-0ubuntu2.7) ...\n",
      "Setting up nvidia-modprobe (367.48-0ubuntu1) ...\n",
      "Setting up pkg-config (0.26-1ubuntu4) ...\n",
      "Setting up python3-xkit (0.5.0ubuntu2) ...\n",
      "Setting up libxnvctrl0 (367.48-0ubuntu1) ...\n",
      "Processing triggers for ureadahead (0.100.0-16) ...\n",
      "Setting up nvidia-367 (367.57-0ubuntu0.14.04.1) ...\n",
      "update-alternatives: using /usr/lib/nvidia-367/ld.so.conf to provide /etc/ld.so.conf.d/x86_64-linux-gnu_GL.conf (x86_64-linux-gnu_gl_conf) in auto mode\n",
      "update-alternatives: using /usr/lib/nvidia-367/ld.so.conf to provide /etc/ld.so.conf.d/x86_64-linux-gnu_EGL.conf (x86_64-linux-gnu_egl_conf) in auto mode\n",
      "update-alternatives: using /usr/lib/nvidia-367/alt_ld.so.conf to provide /etc/ld.so.conf.d/i386-linux-gnu_GL.conf (i386-linux-gnu_gl_conf) in auto mode\n",
      "update-alternatives: using /usr/lib/nvidia-367/alt_ld.so.conf to provide /etc/ld.so.conf.d/i386-linux-gnu_EGL.conf (i386-linux-gnu_egl_conf) in auto mode\n",
      "update-alternatives: using /usr/share/nvidia-367/glamor.conf to provide /usr/share/X11/xorg.conf.d/glamoregl.conf (glamor_conf) in auto mode\n",
      "dpkg: warning: version '*-*' has bad syntax: version number does not start with digit\n",
      "update-initramfs: deferring update (trigger activated)\n",
      "Adding system user `nvidia-persistenced' (UID 103) ...\n",
      "Adding new group `nvidia-persistenced' (GID 108) ...\n",
      "Adding new user `nvidia-persistenced' (UID 103) with group `nvidia-persistenced' ...\n",
      "Not creating home directory `/'.\n",
      "Loading new nvidia-367-367.57 DKMS files...\n",
      "First Installation: checking all kernels...\n",
      "dpkg: warning: version '*-*' has bad syntax: version number does not start with digit\n",
      "It is likely that 4.4.0-57-generic belongs to a chroot's host\n",
      "Building for architecture x86_64\n",
      "Setting up nvidia-367-dev (367.57-0ubuntu0.14.04.1) ...\n",
      "Setting up libcuda1-367 (367.57-0ubuntu0.14.04.1) ...\n",
      "Setting up nvidia-opencl-icd-367 (367.57-0ubuntu0.14.04.1) ...\n",
      "Setting up systemd (204-5ubuntu20.21) ...\n",
      "Initializing machine ID from D-Bus machine ID.\n",
      "invoke-rc.d: unknown initscript, /etc/init.d/systemd not found.\n",
      "invoke-rc.d: policy-rc.d denied execution of start.\n",
      "Processing triggers for ureadahead (0.100.0-16) ...\n",
      "Setting up systemd-services (204-5ubuntu20.21) ...\n",
      "Setting up libpam-systemd:amd64 (204-5ubuntu20.21) ...\n",
      "invoke-rc.d: unknown initscript, /etc/init.d/systemd-logind not found.\n",
      "invoke-rc.d: policy-rc.d denied execution of start.\n",
      "Processing triggers for ureadahead (0.100.0-16) ...\n",
      "Setting up policykit-1 (0.105-4ubuntu3.14.04.1) ...\n",
      "Setting up policykit-1-gnome (0.105-1ubuntu4) ...\n",
      "Setting up screen-resolution-extra (0.17.1) ...\n",
      "Setting up nvidia-settings (367.48-0ubuntu1) ...\n",
      "Setting up cuda-drivers (367.48-1) ...\n",
      "Processing triggers for libc-bin (2.19-0ubuntu6.9) ...\n",
      "Processing triggers for initramfs-tools (0.103ubuntu4.4) ...\n"
     ]
    }
   ],
   "source": [
    "!sudo apt-key adv --fetch-keys http://developer.download.nvidia.com/compute/cuda/repos/ubuntu1604/x86_64/7fa2af80.pub\n",
    "!sudo sh -c 'echo \"deb http://developer.download.nvidia.com/compute/cuda/repos/ubuntu1604/x86_64 /\" > /etc/apt/sources.list.d/cuda.list'\n",
    "!sudo apt-get update && sudo apt-get install -y --no-install-recommends cuda-drivers"
   ]
  },
  {
   "cell_type": "code",
   "execution_count": 1,
   "metadata": {
    "collapsed": false
   },
   "outputs": [
    {
     "name": "stdout",
     "output_type": "stream",
     "text": [
      "Mon Jan 30 01:48:11 2017       \r\n",
      "+-----------------------------------------------------------------------------+\r\n",
      "| NVIDIA-SMI 367.57                 Driver Version: 367.57                    |\r\n",
      "|-------------------------------+----------------------+----------------------+\r\n",
      "| GPU  Name        Persistence-M| Bus-Id        Disp.A | Volatile Uncorr. ECC |\r\n",
      "| Fan  Temp  Perf  Pwr:Usage/Cap|         Memory-Usage | GPU-Util  Compute M. |\r\n",
      "|===============================+======================+======================|\r\n",
      "|   0  Tesla K80           Off  | 0000:00:1E.0     Off |                    0 |\r\n",
      "| N/A   40C    P8    30W / 149W |      0MiB / 11439MiB |      0%      Default |\r\n",
      "+-------------------------------+----------------------+----------------------+\r\n",
      "                                                                               \r\n",
      "+-----------------------------------------------------------------------------+\r\n",
      "| Processes:                                                       GPU Memory |\r\n",
      "|  GPU       PID  Type  Process name                               Usage      |\r\n",
      "|=============================================================================|\r\n",
      "|  No running processes found                                                 |\r\n",
      "+-----------------------------------------------------------------------------+\r\n"
     ]
    }
   ],
   "source": [
    "!nvidia-smi"
   ]
  },
  {
   "cell_type": "code",
   "execution_count": 2,
   "metadata": {
    "collapsed": true
   },
   "outputs": [],
   "source": [
    "import numpy as np\n",
    "import time\n",
    "import sys\n",
    "import math\n",
    "from pprint import pprint\n",
    "import theano\n",
    "from tensorflow.examples.tutorials.mnist import input_data\n",
    "import tensorflow as tf"
   ]
  },
  {
   "cell_type": "code",
   "execution_count": 3,
   "metadata": {
    "collapsed": false
   },
   "outputs": [
    {
     "name": "stdout",
     "output_type": "stream",
     "text": [
      "NP time: 0.577993[s], theano time: 0.298977[s] **(times should be close when run on CPU only)**\n",
      "Result difference: 0.000000\n"
     ]
    }
   ],
   "source": [
    "# test gpu\n",
    "A = np.random.rand(1000,10000).astype(theano.config.floatX)\n",
    "B = np.random.rand(10000,1000).astype(theano.config.floatX)\n",
    "np_start = time.time()\n",
    "AB = A.dot(B)\n",
    "np_end = time.time()\n",
    "X,Y = theano.tensor.matrices('XY')\n",
    "mf = theano.function([X,Y],X.dot(Y))\n",
    "t_start = time.time()\n",
    "tAB = mf(A,B)\n",
    "t_end = time.time()\n",
    "print (\"NP time: %f[s], theano time: %f[s] **(times should be close when run on CPU only)**\" %\n",
    "       (np_end-np_start, t_end-t_start))\n",
    "print (\"Result difference: %f\" % (np.abs(AB-tAB).max(), ))"
   ]
  },
  {
   "cell_type": "code",
   "execution_count": 4,
   "metadata": {
    "collapsed": false
   },
   "outputs": [
    {
     "name": "stdout",
     "output_type": "stream",
     "text": [
      "b'Hello World!'\n"
     ]
    }
   ],
   "source": [
    "# Create TensorFlow object called tensor\n",
    "hello_constant = tf.constant('Hello World!')\n",
    "with tf.Session() as sess:\n",
    "    # Run the tf.constant operation in the session\n",
    "    output = sess.run(hello_constant)\n",
    "    print(output)"
   ]
  },
  {
   "cell_type": "code",
   "execution_count": 5,
   "metadata": {
    "collapsed": true
   },
   "outputs": [],
   "source": [
    "# A is a 0-dimensional int32 tensor\n",
    "A = tf.constant(1234)\n",
    "\n",
    "# B is a 1-dimensional int32 tensor\n",
    "B = tf.constant([ [123,456,789] ]) \n",
    "\n",
    "# C is a 2-dimensional int32 tensor\n",
    "C = tf.constant([ [123,456,789], [222,333,444] ])"
   ]
  },
  {
   "cell_type": "code",
   "execution_count": 6,
   "metadata": {
    "collapsed": false
   },
   "outputs": [
    {
     "name": "stdout",
     "output_type": "stream",
     "text": [
      "Hello World\n"
     ]
    }
   ],
   "source": [
    "# constant tf\n",
    "x = tf.placeholder(tf.string)\n",
    "with tf.Session() as sess:\n",
    "    output = sess.run(x, feed_dict={x: 'Hello World'})\n",
    "    print(output)"
   ]
  },
  {
   "cell_type": "code",
   "execution_count": 7,
   "metadata": {
    "collapsed": false
   },
   "outputs": [
    {
     "name": "stdout",
     "output_type": "stream",
     "text": [
      "Test String\n"
     ]
    }
   ],
   "source": [
    "# basic tf\n",
    "x = tf.placeholder(tf.string)\n",
    "y = tf.placeholder(tf.int32)\n",
    "z = tf.placeholder(tf.float32)\n",
    "\n",
    "with tf.Session() as sess:\n",
    "    output = sess.run(x, feed_dict={x: 'Test String', y: 123, z: 45.67})\n",
    "    print(output)"
   ]
  },
  {
   "cell_type": "code",
   "execution_count": 8,
   "metadata": {
    "collapsed": false
   },
   "outputs": [
    {
     "name": "stdout",
     "output_type": "stream",
     "text": [
      "4.0\n"
     ]
    }
   ],
   "source": [
    "# basic arith\n",
    "x = 10\n",
    "y = 2\n",
    "z = x/y - 1\n",
    "print(z)"
   ]
  },
  {
   "cell_type": "code",
   "execution_count": 9,
   "metadata": {
    "collapsed": false
   },
   "outputs": [
    {
     "name": "stdout",
     "output_type": "stream",
     "text": [
      "4\n"
     ]
    }
   ],
   "source": [
    "# tf arith\n",
    "x = tf.constant(10)\n",
    "y = tf.constant(2)\n",
    "z = tf.sub(tf.div(x,y), tf.constant(1))\n",
    "with tf.Session() as sess:\n",
    "    output = sess.run(z)\n",
    "    print(output)"
   ]
  },
  {
   "cell_type": "code",
   "execution_count": 10,
   "metadata": {
    "collapsed": false
   },
   "outputs": [
    {
     "name": "stdout",
     "output_type": "stream",
     "text": [
      "[[ 0.16]\n",
      " [ 0.06]]\n"
     ]
    }
   ],
   "source": [
    "# simple mat alg\n",
    "X = np.matrix('-0.5, 0.2, 0.1; 0.7, -0.8, 0.2')\n",
    "W = np.vstack([0.2, 0.5, 0.6])\n",
    "b = np.vstack([0.1, 0.2])\n",
    "print(np.dot(X, W) + b)"
   ]
  },
  {
   "cell_type": "code",
   "execution_count": 11,
   "metadata": {
    "collapsed": true
   },
   "outputs": [],
   "source": [
    "# set weights\n",
    "n_features = 10000\n",
    "n_labels = 10\n",
    "bias = tf.Variable(tf.zeros(n_labels))\n",
    "weights = tf.Variable(tf.truncated_normal((n_features, n_labels)))\n",
    "\n",
    "# initialize a var\n",
    "init = tf.global_variables_initializer()\n",
    "with tf.Session() as sess:\n",
    "    sess.run(init)"
   ]
  },
  {
   "cell_type": "code",
   "execution_count": 12,
   "metadata": {
    "collapsed": true
   },
   "outputs": [],
   "source": [
    "def mnist_features_labels(n_labels):\n",
    "    \"\"\"\n",
    "    Gets the first <n> labels from the MNIST dataset\n",
    "    :param n_labels: Number of labels to use\n",
    "    :return: Tuple of feature list and label list\n",
    "    \"\"\"\n",
    "    mnist_features = []\n",
    "    mnist_labels = []\n",
    "\n",
    "    mnist = input_data.read_data_sets('/datasets/ud730/mnist', one_hot=True)\n",
    "\n",
    "    # In order to make quizzes run faster, we're only looking at 10000 images\n",
    "    for mnist_feature, mnist_label in zip(*mnist.train.next_batch(55000)):\n",
    "\n",
    "        # Add features and labels if it's for the first <n>th labels\n",
    "        if mnist_label[:n_labels].any():\n",
    "            mnist_features.append(mnist_feature)\n",
    "            mnist_labels.append(mnist_label[:n_labels])\n",
    "\n",
    "    return mnist_features, mnist_labels"
   ]
  },
  {
   "cell_type": "code",
   "execution_count": 13,
   "metadata": {
    "collapsed": false
   },
   "outputs": [],
   "source": [
    "def weights(n_features, n_labels):\n",
    "    \"\"\"\n",
    "    Return TensorFlow weights\n",
    "    :param n_features: Number of features\n",
    "    :param n_labels: Number of labels\n",
    "    :return: TensorFlow weights\n",
    "    \"\"\"\n",
    "    return tf.Variable(tf.random_normal([n_features, n_labels]))"
   ]
  },
  {
   "cell_type": "code",
   "execution_count": 14,
   "metadata": {
    "collapsed": true
   },
   "outputs": [],
   "source": [
    "def biases(n_labels):\n",
    "    \"\"\"\n",
    "    Return TensorFlow bias\n",
    "    :param n_labels: Number of labels\n",
    "    :return: TensorFlow bias\n",
    "    \"\"\"\n",
    "    return tf.Variable(tf.random_normal([n_labels]))"
   ]
  },
  {
   "cell_type": "code",
   "execution_count": 15,
   "metadata": {
    "collapsed": true
   },
   "outputs": [],
   "source": [
    "def linear(input, w, b):\n",
    "    \"\"\"\n",
    "    Return linear function in TensorFlow\n",
    "    :param input: TensorFlow input\n",
    "    :param w: TensorFlow weights\n",
    "    :param b: TensorFlow biases\n",
    "    :return: TensorFlow linear function\n",
    "    \"\"\"\n",
    "    return tf.add(tf.matmul(input, w), b)"
   ]
  },
  {
   "cell_type": "code",
   "execution_count": 16,
   "metadata": {
    "collapsed": true
   },
   "outputs": [],
   "source": [
    "def softmax(x):\n",
    "    \"\"\"\n",
    "    Compute softmax values for each sets of scores in x.\n",
    "    \"\"\"\n",
    "    return np.exp(x)/np.sum(np.exp(x), axis=0)"
   ]
  },
  {
   "cell_type": "code",
   "execution_count": 17,
   "metadata": {
    "collapsed": false,
    "scrolled": true
   },
   "outputs": [
    {
     "name": "stdout",
     "output_type": "stream",
     "text": [
      "Extracting /datasets/ud730/mnist/train-images-idx3-ubyte.gz\n",
      "Extracting /datasets/ud730/mnist/train-labels-idx1-ubyte.gz\n",
      "Extracting /datasets/ud730/mnist/t10k-images-idx3-ubyte.gz\n",
      "Extracting /datasets/ud730/mnist/t10k-labels-idx1-ubyte.gz\n",
      "Loss: 14.300590515136719\n"
     ]
    }
   ],
   "source": [
    "# Number of features (28*28 image is 784 features)\n",
    "n_features = 784\n",
    "\n",
    "# Number of labels\n",
    "n_labels = 10\n",
    "\n",
    "# Features and Labels\n",
    "features = tf.placeholder(tf.float32)\n",
    "labels = tf.placeholder(tf.float32)\n",
    "\n",
    "# Weights and Biases\n",
    "w = weights(n_features, n_labels)\n",
    "b = biases(n_labels)\n",
    "\n",
    "# Linear Function xW + b\n",
    "logits = linear(features, w, b)\n",
    "\n",
    "# Training data\n",
    "train_features, train_labels = mnist_features_labels(n_labels)\n",
    "\n",
    "# init session\n",
    "init = tf.global_variables_initializer()\n",
    "with tf.Session() as session:\n",
    "    session.run(init)\n",
    "    \n",
    "    # Softmax\n",
    "    prediction = tf.nn.softmax(logits)\n",
    "\n",
    "    # Cross entropy\n",
    "    cross_entropy = -tf.reduce_sum(labels * tf.log(prediction), reduction_indices=1)\n",
    "\n",
    "    # Training loss\n",
    "    loss = tf.reduce_mean(cross_entropy)\n",
    "\n",
    "    # Rate at which the weights are changed\n",
    "    learning_rate = 0.01\n",
    "\n",
    "    # Gradient Descent\n",
    "    optimizer = tf.train.GradientDescentOptimizer(learning_rate).minimize(loss)\n",
    "\n",
    "    # Run optimizer and get loss\n",
    "    _, l = session.run(\n",
    "        [optimizer, loss],\n",
    "        feed_dict={features: train_features, labels: train_labels})\n",
    "\n",
    "# Print loss\n",
    "print('Loss: {}'.format(l))"
   ]
  },
  {
   "cell_type": "code",
   "execution_count": 18,
   "metadata": {
    "collapsed": false
   },
   "outputs": [
    {
     "name": "stdout",
     "output_type": "stream",
     "text": [
      "[  9.99954581e-01   4.53978682e-05   2.08177431e-09]\n"
     ]
    }
   ],
   "source": [
    "output = None\n",
    "logit_data = [20.0, 10.0, 0.01]\n",
    "logits = tf.placeholder(tf.float32)\n",
    "softmax = tf.nn.softmax(logits)\n",
    "with tf.Session() as sess:\n",
    "    output = sess.run(softmax, feed_dict={logits:logit_data})\n",
    "print(output)"
   ]
  },
  {
   "cell_type": "code",
   "execution_count": 19,
   "metadata": {
    "collapsed": false
   },
   "outputs": [
    {
     "name": "stdout",
     "output_type": "stream",
     "text": [
      "0.356675\n"
     ]
    }
   ],
   "source": [
    "softmax_data = [0.7, 0.2, 0.1]\n",
    "one_hot_data = [1.0, 0.0, 0.0]\n",
    "softmax = tf.placeholder(tf.float32)\n",
    "one_hot = tf.placeholder(tf.float32)\n",
    "cross_ent = -tf.reduce_sum(tf.mul(one_hot, tf.log(softmax)))\n",
    "with tf.Session() as sess:\n",
    "    print(sess.run(cross_ent, feed_dict={one_hot:one_hot_data, softmax:softmax_data}))"
   ]
  },
  {
   "cell_type": "code",
   "execution_count": 21,
   "metadata": {
    "collapsed": false
   },
   "outputs": [
    {
     "name": "stdout",
     "output_type": "stream",
     "text": [
      "Extracting /datasets/ud730/mnist/train-images-idx3-ubyte.gz\n",
      "Extracting /datasets/ud730/mnist/train-labels-idx1-ubyte.gz\n",
      "Extracting /datasets/ud730/mnist/t10k-images-idx3-ubyte.gz\n",
      "Extracting /datasets/ud730/mnist/t10k-labels-idx1-ubyte.gz\n"
     ]
    }
   ],
   "source": [
    "# The features are already scaled and the data is shuffled\n",
    "mnist = input_data.read_data_sets('/datasets/ud730/mnist', one_hot=True)\n",
    "train_features = mnist.train.images\n",
    "test_features = mnist.test.images\n",
    "train_labels = mnist.train.labels.astype(np.float32)\n",
    "test_labels = mnist.test.labels.astype(np.float32)\n",
    "n_input = 28*28\n",
    "n_labels = 10"
   ]
  },
  {
   "cell_type": "code",
   "execution_count": 22,
   "metadata": {
    "collapsed": false
   },
   "outputs": [],
   "source": [
    "w = weights(n_input, n_labels)\n",
    "b = biases(n_labels)"
   ]
  },
  {
   "cell_type": "code",
   "execution_count": 23,
   "metadata": {
    "collapsed": false
   },
   "outputs": [
    {
     "name": "stdout",
     "output_type": "stream",
     "text": [
      "172480112\n",
      "2200112\n",
      "56\n",
      "56\n"
     ]
    }
   ],
   "source": [
    "for i in [train_features, train_labels, w, b]:\n",
    "    print(sys.getsizeof(i))"
   ]
  },
  {
   "cell_type": "code",
   "execution_count": 24,
   "metadata": {
    "collapsed": false
   },
   "outputs": [],
   "source": [
    "# Features and Labels\n",
    "features = tf.placeholder(tf.float32, [None, n_input])\n",
    "labels = tf.placeholder(tf.float32, [None, n_labels])"
   ]
  },
  {
   "cell_type": "code",
   "execution_count": 64,
   "metadata": {
    "collapsed": false
   },
   "outputs": [],
   "source": [
    "def batches(batch_size, features, labels):\n",
    "    \"\"\"\n",
    "    Create batches of features and labels\n",
    "    :param batch_size: The batch size\n",
    "    :param features: List of features\n",
    "    :param labels: List of labels\n",
    "    :return: Batches of (Features, Labels)\n",
    "    \"\"\"\n",
    "    assert len(features) == len(labels)\n",
    "    outout_batches = []\n",
    "    sample_size = len(features)\n",
    "    for start_i in range(0, sample_size, batch_size):\n",
    "        end_i = start_i + batch_size\n",
    "        batch = [features[start_i:end_i], labels[start_i:end_i]]\n",
    "        outout_batches.append(batch)\n",
    "    return outout_batches"
   ]
  },
  {
   "cell_type": "code",
   "execution_count": 65,
   "metadata": {
    "collapsed": false
   },
   "outputs": [
    {
     "name": "stdout",
     "output_type": "stream",
     "text": [
      "[[[['F11', 'F12', 'F13', 'F14'],\n",
      "   ['F21', 'F22', 'F23', 'F24'],\n",
      "   ['F31', 'F32', 'F33', 'F34']],\n",
      "  [['L11', 'L12'], ['L21', 'L22'], ['L31', 'L32']]],\n",
      " [[['F41', 'F42', 'F43', 'F44']], [['L41', 'L42']]]]\n"
     ]
    }
   ],
   "source": [
    "# 4 Samples of features\n",
    "example_features = [\n",
    "    ['F11','F12','F13','F14'],\n",
    "    ['F21','F22','F23','F24'],\n",
    "    ['F31','F32','F33','F34'],\n",
    "    ['F41','F42','F43','F44']]\n",
    "\n",
    "# 4 Samples of labels\n",
    "example_labels = [\n",
    "    ['L11','L12'],\n",
    "    ['L21','L22'],\n",
    "    ['L31','L32'],\n",
    "    ['L41','L42']]\n",
    "\n",
    "# PPrint prints data structures like 2d arrays, so they are easier to read\n",
    "pprint(batches(3, example_features, example_labels))"
   ]
  }
 ],
 "metadata": {
  "anaconda-cloud": {},
  "kernelspec": {
   "display_name": "Python [conda root]",
   "language": "python",
   "name": "conda-root-py"
  },
  "language_info": {
   "codemirror_mode": {
    "name": "ipython",
    "version": 3
   },
   "file_extension": ".py",
   "mimetype": "text/x-python",
   "name": "python",
   "nbconvert_exporter": "python",
   "pygments_lexer": "ipython3",
   "version": "3.5.2"
  }
 },
 "nbformat": 4,
 "nbformat_minor": 1
}

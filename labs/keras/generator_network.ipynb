{
 "cells": [
  {
   "cell_type": "code",
   "execution_count": 96,
   "metadata": {
    "collapsed": false
   },
   "outputs": [
    {
     "name": "stdout",
     "output_type": "stream",
     "text": [
      "Thu Mar 16 10:48:08 2017       \r\n",
      "+-----------------------------------------------------------------------------+\r\n",
      "| NVIDIA-SMI 375.26                 Driver Version: 375.26                    |\r\n",
      "|-------------------------------+----------------------+----------------------+\r\n",
      "| GPU  Name        Persistence-M| Bus-Id        Disp.A | Volatile Uncorr. ECC |\r\n",
      "| Fan  Temp  Perf  Pwr:Usage/Cap|         Memory-Usage | GPU-Util  Compute M. |\r\n",
      "|===============================+======================+======================|\r\n",
      "|   0  Tesla K80           Off  | 0000:00:1E.0     Off |                    0 |\r\n",
      "| N/A   52C    P0    58W / 149W |  10913MiB / 11439MiB |      0%      Default |\r\n",
      "+-------------------------------+----------------------+----------------------+\r\n",
      "                                                                               \r\n",
      "+-----------------------------------------------------------------------------+\r\n",
      "| Processes:                                                       GPU Memory |\r\n",
      "|  GPU       PID  Type  Process name                               Usage      |\r\n",
      "|=============================================================================|\r\n",
      "+-----------------------------------------------------------------------------+\r\n"
     ]
    }
   ],
   "source": [
    "!nvidia-smi"
   ]
  },
  {
   "cell_type": "code",
   "execution_count": 111,
   "metadata": {
    "collapsed": false
   },
   "outputs": [],
   "source": [
    "# Load pickled data\n",
    "import pickle\n",
    "import numpy as np\n",
    "import tensorflow as tf\n",
    "\n",
    "# keras layers\n",
    "from keras.models import Sequential\n",
    "from keras.layers.core import Dense, Activation, Flatten, Dropout\n",
    "from keras.layers.convolutional import Convolution2D\n",
    "from keras.layers.pooling import MaxPooling2D\n",
    "\n",
    "\n",
    "# keras utils\n",
    "from keras.utils.np_utils import to_categorical\n",
    "from keras.preprocessing.image import ImageDataGenerator\n",
    "\n",
    "# keras existing models\n",
    "from keras.applications.xception import Xception\n",
    "from keras.applications.vgg16 import VGG16\n",
    "from keras.applications.vgg19 import VGG19\n",
    "from keras.applications.resnet50 import ResNet50\n",
    "from keras.applications.inception_v3 import InceptionV3\n",
    "tf.python.control_flow_ops = tf"
   ]
  },
  {
   "cell_type": "code",
   "execution_count": 112,
   "metadata": {
    "collapsed": false
   },
   "outputs": [],
   "source": [
    "# load data\n",
    "with open('../data/traffic_signs/train.p', mode='rb') as f:\n",
    "    data = pickle.load(f)\n",
    "\n",
    "# preprocess data\n",
    "X_train, y_train = data['features'], data['labels']\n",
    "X_train = np.array(X_train / 255.0 - 0.5 )\n",
    "y_train = to_categorical(y_train)\n",
    "n_classes = len(y_train[0])"
   ]
  },
  {
   "cell_type": "code",
   "execution_count": 113,
   "metadata": {
    "collapsed": false
   },
   "outputs": [],
   "source": [
    "# load data\n",
    "with open('../data/traffic_signs/valid.p', mode='rb') as f:\n",
    "    data = pickle.load(f)\n",
    "\n",
    "# preprocess data\n",
    "X_cv, y_cv = data['features'], data['labels']\n",
    "X_cv = np.array(X_cv / 255.0 - 0.5 )\n",
    "y_cv = to_categorical(y_cv)"
   ]
  },
  {
   "cell_type": "code",
   "execution_count": 114,
   "metadata": {
    "collapsed": true
   },
   "outputs": [],
   "source": [
    "# load data\n",
    "with open('../data/traffic_signs/test.p', mode='rb') as f:\n",
    "    data = pickle.load(f)\n",
    "\n",
    "# preprocess data\n",
    "X_test, y_test = data['features'], data['labels']\n",
    "X_test = np.array(X_test / 255.0 - 0.5 )\n",
    "y_test = to_categorical(y_test)"
   ]
  },
  {
   "cell_type": "code",
   "execution_count": 115,
   "metadata": {
    "collapsed": false
   },
   "outputs": [
    {
     "name": "stdout",
     "output_type": "stream",
     "text": [
      "____________________________________________________________________________________________________\n",
      "Layer (type)                     Output Shape          Param #     Connected to                     \n",
      "====================================================================================================\n",
      "convolution2d_3 (Convolution2D)  (None, 30, 30, 32)    896         convolution2d_input_3[0][0]      \n",
      "____________________________________________________________________________________________________\n",
      "maxpooling2d_2 (MaxPooling2D)    (None, 15, 15, 32)    0           convolution2d_3[0][0]            \n",
      "____________________________________________________________________________________________________\n",
      "dropout_1 (Dropout)              (None, 15, 15, 32)    0           maxpooling2d_2[0][0]             \n",
      "____________________________________________________________________________________________________\n",
      "activation_2 (Activation)        (None, 15, 15, 32)    0           dropout_1[0][0]                  \n",
      "____________________________________________________________________________________________________\n",
      "flatten_11 (Flatten)             (None, 7200)          0           activation_2[0][0]               \n",
      "____________________________________________________________________________________________________\n",
      "dense_19 (Dense)                 (None, 128)           921728      flatten_11[0][0]                 \n",
      "____________________________________________________________________________________________________\n",
      "dense_20 (Dense)                 (None, 43)            5547        dense_19[0][0]                   \n",
      "====================================================================================================\n",
      "Total params: 928,171\n",
      "Trainable params: 928,171\n",
      "Non-trainable params: 0\n",
      "____________________________________________________________________________________________________\n"
     ]
    }
   ],
   "source": [
    "# Initial Setup for Keras\n",
    "model = Sequential()\n",
    "model.add(Convolution2D(32, 3, 3, input_shape=(32, 32, 3)))\n",
    "model.add(MaxPooling2D((2, 2)))\n",
    "model.add(Dropout(0.5))\n",
    "model.add(Activation('relu'))\n",
    "model.add(Flatten())\n",
    "model.add(Dense(128, activation='relu'))\n",
    "model.add(Dense(n_classes, activation='softmax'))\n",
    "model.summary()"
   ]
  },
  {
   "cell_type": "code",
   "execution_count": 116,
   "metadata": {
    "collapsed": true
   },
   "outputs": [],
   "source": [
    "model.compile(loss='categorical_crossentropy',\n",
    "              optimizer='adam',\n",
    "              metrics=['accuracy'])"
   ]
  },
  {
   "cell_type": "code",
   "execution_count": 117,
   "metadata": {
    "collapsed": false,
    "scrolled": true
   },
   "outputs": [
    {
     "name": "stdout",
     "output_type": "stream",
     "text": [
      "Train on 34799 samples, validate on 12630 samples\n",
      "Epoch 1/20\n",
      "34799/34799 [==============================] - 9s - loss: 0.9700 - acc: 0.7395 - val_loss: 0.6330 - val_acc: 0.8291\n",
      "Epoch 2/20\n",
      "34799/34799 [==============================] - 8s - loss: 0.2678 - acc: 0.9276 - val_loss: 0.5731 - val_acc: 0.8726\n",
      "Epoch 3/20\n",
      "34799/34799 [==============================] - 8s - loss: 0.1817 - acc: 0.9492 - val_loss: 0.5639 - val_acc: 0.8732\n",
      "Epoch 4/20\n",
      "34799/34799 [==============================] - 8s - loss: 0.1483 - acc: 0.9580 - val_loss: 0.5518 - val_acc: 0.8882\n",
      "Epoch 5/20\n",
      "34799/34799 [==============================] - 8s - loss: 0.1239 - acc: 0.9645 - val_loss: 0.5742 - val_acc: 0.8879\n",
      "Epoch 6/20\n",
      "34799/34799 [==============================] - 8s - loss: 0.1111 - acc: 0.9676 - val_loss: 0.5726 - val_acc: 0.8878\n",
      "Epoch 7/20\n",
      "34799/34799 [==============================] - 8s - loss: 0.0916 - acc: 0.9741 - val_loss: 0.5450 - val_acc: 0.8982\n",
      "Epoch 8/20\n",
      "34799/34799 [==============================] - 8s - loss: 0.0866 - acc: 0.9749 - val_loss: 0.5338 - val_acc: 0.9056\n",
      "Epoch 9/20\n",
      "34799/34799 [==============================] - 8s - loss: 0.0753 - acc: 0.9780 - val_loss: 0.6108 - val_acc: 0.8964\n",
      "Epoch 10/20\n",
      "34799/34799 [==============================] - 8s - loss: 0.0758 - acc: 0.9790 - val_loss: 0.6417 - val_acc: 0.8938\n",
      "Epoch 11/20\n",
      "34799/34799 [==============================] - 8s - loss: 0.0673 - acc: 0.9817 - val_loss: 0.6037 - val_acc: 0.9010\n",
      "Epoch 12/20\n",
      "34799/34799 [==============================] - 8s - loss: 0.0572 - acc: 0.9834 - val_loss: 0.5975 - val_acc: 0.8955\n",
      "Epoch 13/20\n",
      "34799/34799 [==============================] - 8s - loss: 0.0600 - acc: 0.9825 - val_loss: 0.7102 - val_acc: 0.8899\n",
      "Epoch 14/20\n",
      "34799/34799 [==============================] - 8s - loss: 0.0634 - acc: 0.9826 - val_loss: 0.7226 - val_acc: 0.8911\n",
      "Epoch 15/20\n",
      "34799/34799 [==============================] - 8s - loss: 0.0528 - acc: 0.9847 - val_loss: 0.6944 - val_acc: 0.8925\n",
      "Epoch 16/20\n",
      "34799/34799 [==============================] - 8s - loss: 0.0511 - acc: 0.9854 - val_loss: 0.6786 - val_acc: 0.9012\n",
      "Epoch 17/20\n",
      "34799/34799 [==============================] - 8s - loss: 0.0466 - acc: 0.9868 - val_loss: 0.7080 - val_acc: 0.8967\n",
      "Epoch 18/20\n",
      "34799/34799 [==============================] - 8s - loss: 0.0451 - acc: 0.9869 - val_loss: 0.7091 - val_acc: 0.8918\n",
      "Epoch 19/20\n",
      "34799/34799 [==============================] - 8s - loss: 0.0476 - acc: 0.9870 - val_loss: 0.6621 - val_acc: 0.9052\n",
      "Epoch 20/20\n",
      "34799/34799 [==============================] - 8s - loss: 0.0402 - acc: 0.9890 - val_loss: 0.7574 - val_acc: 0.8926\n"
     ]
    }
   ],
   "source": [
    "epochs = 20\n",
    "history = model.fit(X_train, y_train,\n",
    "                    nb_epoch=epochs,\n",
    "                    verbose=1,\n",
    "                    validation_data=(X_test, y_test))"
   ]
  },
  {
   "cell_type": "code",
   "execution_count": 123,
   "metadata": {
    "collapsed": false
   },
   "outputs": [
    {
     "name": "stdout",
     "output_type": "stream",
     "text": [
      "Testing\n",
      "12512/12630 [============================>.] - ETA: 0s\n",
      "loss: 0.76\n",
      "\n",
      "acc: 0.89\n"
     ]
    }
   ],
   "source": [
    "metrics = model.evaluate(X_test, y_test)\n",
    "for m in range(len(model.metrics_names)):\n",
    "    metric_name = model.metrics_names[m]\n",
    "    metric_value = metrics[m]\n",
    "    print('\\n{}: {:.2f}'.format(metric_name, metric_value))"
   ]
  },
  {
   "cell_type": "code",
   "execution_count": null,
   "metadata": {
    "collapsed": true
   },
   "outputs": [],
   "source": [
    "# data generator\n",
    "train_datagen = ImageDataGenerator(\n",
    "    rotation_range=15,\n",
    "    width_shift_range=0.2,\n",
    "    height_shift_range=0.2,\n",
    "    rescale=1./255,\n",
    "    shear_range=0.2,\n",
    "    zoom_range=0.2,\n",
    "    horizontal_flip=False,\n",
    "    fill_mode='nearest')\n",
    "\n",
    "# data generator\n",
    "test_datagen = ImageDataGenerator(rescale=1./255)\n",
    "\n",
    "batch_size = 128\n",
    "\n",
    "# batches of augmented image data\n",
    "train_generator = train_datagen.flow(\n",
    "    X_train,\n",
    "    target_size=(224, 224),\n",
    "    batch_size=batch_size)\n",
    "\n",
    "# this is a similar generator, for validation data\n",
    "validation_generator = test_datagen.flow(\n",
    "    X_cv,\n",
    "    target_size=(224, 224),\n",
    "    batch_size=batch_size)\n",
    "\n",
    "# vgg model\n",
    "vggmodel = VGG16(weights='imagenet', include_top=True)\n",
    "vggmodel.summary()\n",
    "\n",
    "# compile\n",
    "model.compile(loss='categorical_crossentropy',\n",
    "              optimizer='adam',\n",
    "              metrics=['accuracy'])\n",
    "\n",
    "# fit augmented data\n",
    "model.fit_generator(\n",
    "    train_generator,\n",
    "    samples_per_epoch=2000,\n",
    "    nb_epoch=50,\n",
    "    validation_data=validation_generator,\n",
    "    nb_val_samples=800)\n",
    "model.save_weights('first_try.h5')  # always save your weights after training or during training\n",
    "\n",
    "# score\n",
    "score = model.evaluate(X_test, y_test, verbose=0)\n",
    "print('Test loss:', score[0])\n",
    "print('Test accuracy:', score[1])"
   ]
  }
 ],
 "metadata": {
  "anaconda-cloud": {},
  "kernelspec": {
   "display_name": "Python [conda root]",
   "language": "python",
   "name": "conda-root-py"
  },
  "language_info": {
   "codemirror_mode": {
    "name": "ipython",
    "version": 3
   },
   "file_extension": ".py",
   "mimetype": "text/x-python",
   "name": "python",
   "nbconvert_exporter": "python",
   "pygments_lexer": "ipython3",
   "version": "3.5.2"
  }
 },
 "nbformat": 4,
 "nbformat_minor": 1
}

{
 "cells": [
  {
   "cell_type": "markdown",
   "metadata": {},
   "source": [
    "# Traffic Sign Classification with Keras\n",
    "\n",
    "Keras exists to make coding deep neural networks simpler. To demonstrate just how easy it is, you’re going to use Keras to build a convolutional neural network in a few dozen lines of code.\n",
    "\n",
    "You’ll be connecting the concepts from the previous lessons to the methods that Keras provides."
   ]
  },
  {
   "cell_type": "markdown",
   "metadata": {},
   "source": [
    "## Dataset\n",
    "\n",
    "The network you'll build with Keras is similar to the example that you can find in Keras’s GitHub repository that builds out a [convolutional neural network for MNIST](https://github.com/fchollet/keras/blob/master/examples/mnist_cnn.py). \n",
    "\n",
    "However, instead of using the [MNIST](http://yann.lecun.com/exdb/mnist/) dataset, you're going to use the [German Traffic Sign Recognition Benchmark](http://benchmark.ini.rub.de/?section=gtsrb&subsection=news) dataset that you've used previously.\n",
    "\n",
    "You can download pickle files with sanitized traffic sign data here."
   ]
  },
  {
   "cell_type": "markdown",
   "metadata": {},
   "source": [
    "## Overview\n",
    "\n",
    "Here are the steps you'll take to build the network:\n",
    "\n",
    "1. First load the data.\n",
    "2. Build a feedforward neural network to classify traffic signs.\n",
    "3. Build a convolutional neural network to classify traffic signs.\n",
    "\n",
    "Keep an eye on the network’s accuracy over time. Once the accuracy reaches the 98% range, you can be confident that you’ve built and trained an effective model."
   ]
  },
  {
   "cell_type": "markdown",
   "metadata": {},
   "source": [
    "## Load the Data\n",
    "\n",
    "Start by importing the data from the pickle file."
   ]
  },
  {
   "cell_type": "code",
   "execution_count": 1,
   "metadata": {
    "collapsed": false
   },
   "outputs": [],
   "source": [
    "# TODO: Implement load the data here.\n",
    "# Load pickled data\n",
    "import pickle\n",
    "import csv\n",
    "import os\n",
    "\n",
    "# TODO: fill this in based on where you saved the training and testing data\n",
    "training_file = '../../traffic-signs/traffic-signs-data/train.p'\n",
    "testing_file = '../../traffic-signs/traffic-signs-data/test.p'\n",
    "\n",
    "with open(training_file, mode='rb') as f:\n",
    "    train = pickle.load(f)\n",
    "with open(testing_file, mode='rb') as f:\n",
    "    test = pickle.load(f)\n",
    "\n",
    "X_train, y_train = train['features'], train['labels']\n",
    "X_test, y_test = test['features'], test['labels']\n",
    "\n",
    "# Make dictionary of sign names from CSV file\n",
    "with open('../../traffic-signs/signnames.csv', 'r') as csvfile:\n",
    "    reader = csv.reader(csvfile)\n",
    "    next(reader, None)  # skip the headers\n",
    "    sign_names = dict((int(n),label) for n, label in reader)\n",
    "\n",
    "cls_numbers, cls_names = zip(*sign_names.items())\n",
    "\n",
    "n_classes = len(set(y_train))\n",
    "flat_img_size = 32*32*3\n",
    "\n",
    "# STOP: Do not change the tests below. Your implementation should pass these tests. \n",
    "assert(X_train.shape[0] == y_train.shape[0]), \"The number of images is not equal to the number of labels.\"\n",
    "assert(X_train.shape[1:] == (32,32,3)), \"The dimensions of the images are not 32 x 32 x 3.\""
   ]
  },
  {
   "cell_type": "code",
   "execution_count": 2,
   "metadata": {
    "collapsed": true
   },
   "outputs": [],
   "source": [
    "import numpy as np\n",
    "from PIL import Image\n",
    "from sklearn.model_selection import train_test_split\n",
    "from sklearn.preprocessing import LabelBinarizer\n",
    "from sklearn.utils import resample\n",
    "from tqdm import tqdm_notebook\n",
    "from zipfile import ZipFile\n",
    "import time\n",
    "from datetime import timedelta\n",
    "import math\n",
    "import tensorflow as tf"
   ]
  },
  {
   "cell_type": "markdown",
   "metadata": {},
   "source": [
    "## Normalize the data\n",
    "\n",
    "Now that you've loaded the training data, normalize the input so that it has a mean of 0 and a range between -0.5 and 0.5."
   ]
  },
  {
   "cell_type": "code",
   "execution_count": 3,
   "metadata": {
    "collapsed": false
   },
   "outputs": [],
   "source": [
    "# TODO: Implement data normalization here.\n",
    "def normalize_color(image_data):\n",
    "    \"\"\"\n",
    "    Normalize the image data with Min-Max scaling to a range of [0.1, 0.9]\n",
    "    :param image_data: The image data to be normalized\n",
    "    :return: Normalized image data\n",
    "    \"\"\"\n",
    "    a = -0.5\n",
    "    b = +0.5\n",
    "    \n",
    "    Xmin = 0.0\n",
    "    Xmax = 255.0\n",
    "\n",
    "    norm_img = np.empty_like(image_data, dtype=np.float32)\n",
    "\n",
    "    norm_img = a + (image_data - Xmin)*(b-a)/(Xmax - Xmin)\n",
    "    \n",
    "    return norm_img\n",
    "\n",
    "X_train = normalize_color(X_train)\n",
    "X_test = normalize_color(X_test)\n",
    "\n",
    "# STOP: Do not change the tests below. Your implementation should pass these tests. \n",
    "assert(round(np.mean(X_train)) == 0), \"The mean of the input data is: %f\" % np.mean(X_train)\n",
    "assert(np.min(X_train) == -0.5 and np.max(X_train) == 0.5), \"The range of the input data is: %.1f to %.1f\" % (np.min(X_train), np.max(X_train))"
   ]
  },
  {
   "cell_type": "markdown",
   "metadata": {},
   "source": [
    "## Build a Two-Layer Feedfoward Network\n",
    "\n",
    "The code you've written so far is for data processing, not specific to Keras. Here you're going to build Keras-specific code.\n",
    "\n",
    "Build a two-layer feedforward neural network, with 128 neurons in the fully-connected hidden layer. \n",
    "\n",
    "To get started, review the Keras documentation about [models](https://keras.io/models/sequential/) and [layers](https://keras.io/layers/core/).\n",
    "\n",
    "The Keras example of a [Multi-Layer Perceptron](https://github.com/fchollet/keras/blob/master/examples/mnist_mlp.py) network is similar to what you need to do here. Use that as a guide, but keep in mind that there are a number of differences."
   ]
  },
  {
   "cell_type": "code",
   "execution_count": 4,
   "metadata": {
    "collapsed": false
   },
   "outputs": [
    {
     "name": "stderr",
     "output_type": "stream",
     "text": [
      "Using TensorFlow backend.\n"
     ]
    }
   ],
   "source": [
    "from keras.models import Sequential\n",
    "from keras.layers.core import Dense, Activation\n",
    "from keras.optimizers import Adam\n",
    "from keras.utils import np_utils"
   ]
  },
  {
   "cell_type": "code",
   "execution_count": 5,
   "metadata": {
    "collapsed": false
   },
   "outputs": [],
   "source": [
    "# TODO: Build a two-layer feedforward neural network with Keras here.\n",
    "model = Sequential()\n",
    "model.add(Dense(128, input_shape=(flat_img_size,), name='hidden1'))\n",
    "model.add(Activation('relu'))\n",
    "model.add(Dense(43, name='output'))\n",
    "model.add(Activation('softmax'))\n",
    "\n",
    "# STOP: Do not change the tests below. Your implementation should pass these tests.\n",
    "assert(model.get_layer(name=\"hidden1\").input_shape == (None, 32*32*3)), \"The input shape is: %s\" % model.get_layer(name=\"hidden1\").input_shape\n",
    "assert(model.get_layer(name=\"output\").output_shape == (None, 43)), \"The output shape is: %s\" % model.get_layer(name=\"output\").output_shape "
   ]
  },
  {
   "cell_type": "markdown",
   "metadata": {},
   "source": [
    "## Train the Network\n",
    "Compile and train the network for 2 epochs. [Use the `adam` optimizer, with `categorical_crossentropy` loss.](https://keras.io/models/sequential/)\n",
    "\n",
    "Hint 1: In order to use categorical cross entropy, you will need to [one-hot encode the labels](https://github.com/fchollet/keras/blob/master/keras/utils/np_utils.py).\n",
    "\n",
    "Hint 2: In order to pass the input images to the fully-connected hidden layer, you will need to [reshape the input](https://github.com/fchollet/keras/blob/master/examples/mnist_mlp.py).\n",
    "\n",
    "Hint 3: Keras's `.fit()` method returns a `History.history` object, which the tests below use. Save that to a variable named `history`."
   ]
  },
  {
   "cell_type": "code",
   "execution_count": 6,
   "metadata": {
    "collapsed": false
   },
   "outputs": [],
   "source": [
    "# One-Hot encode the labels\n",
    "Y_train = np_utils.to_categorical(y_train, n_classes)\n",
    "Y_test = np_utils.to_categorical(y_test, n_classes)\n",
    "\n",
    "# Reshape input for MLP\n",
    "X_train_mlp = X_train.reshape(-1, flat_img_size)\n",
    "X_test_mlp = X_test.reshape(-1, flat_img_size)"
   ]
  },
  {
   "cell_type": "code",
   "execution_count": 7,
   "metadata": {
    "collapsed": false
   },
   "outputs": [
    {
     "name": "stdout",
     "output_type": "stream",
     "text": [
      "Train on 39209 samples, validate on 12630 samples\n",
      "Epoch 1/10\n",
      "39209/39209 [==============================] - 3s - loss: 1.6459 - acc: 0.5692 - val_loss: 1.2762 - val_acc: 0.6511\n",
      "Epoch 2/10\n",
      "39209/39209 [==============================] - 3s - loss: 0.7393 - acc: 0.8084 - val_loss: 1.0502 - val_acc: 0.6948\n",
      "Epoch 3/10\n",
      "39209/39209 [==============================] - 3s - loss: 0.5310 - acc: 0.8620 - val_loss: 0.9035 - val_acc: 0.7549\n",
      "Epoch 4/10\n",
      "39209/39209 [==============================] - 3s - loss: 0.4127 - acc: 0.8932 - val_loss: 0.8067 - val_acc: 0.7938\n",
      "Epoch 5/10\n",
      "39209/39209 [==============================] - 3s - loss: 0.3521 - acc: 0.9066 - val_loss: 0.8088 - val_acc: 0.7755\n",
      "Epoch 6/10\n",
      "39209/39209 [==============================] - 3s - loss: 0.3066 - acc: 0.9182 - val_loss: 0.7676 - val_acc: 0.8026\n",
      "Epoch 7/10\n",
      "39209/39209 [==============================] - 3s - loss: 0.2692 - acc: 0.9283 - val_loss: 0.8346 - val_acc: 0.7781\n",
      "Epoch 8/10\n",
      "39209/39209 [==============================] - 3s - loss: 0.2487 - acc: 0.9335 - val_loss: 0.8782 - val_acc: 0.7702\n",
      "Epoch 9/10\n",
      "39209/39209 [==============================] - 3s - loss: 0.2501 - acc: 0.9324 - val_loss: 0.7706 - val_acc: 0.8205\n",
      "Epoch 10/10\n",
      "39209/39209 [==============================] - 3s - loss: 0.2144 - acc: 0.9416 - val_loss: 0.7575 - val_acc: 0.8202\n"
     ]
    }
   ],
   "source": [
    "model.compile(optimizer='adam', loss='categorical_crossentropy', metrics=['accuracy'])\n",
    "\n",
    "history = model.fit(X_train_mlp, Y_train, batch_size=128, nb_epoch=10,\n",
    "                    validation_data=(X_test_mlp, Y_test), verbose=1)\n",
    "\n",
    "# STOP: Do not change the tests below. Your implementation should pass these tests.\n",
    "assert(history.history['acc'][0] > 0.5), \"The training accuracy was: %.3f\" % history.history['acc'][0]"
   ]
  },
  {
   "cell_type": "markdown",
   "metadata": {},
   "source": [
    "## Validate the Network\n",
    "Split the training data into a training and validation set.\n",
    "\n",
    "Measure the [validation accuracy](https://keras.io/models/sequential/) of the network after two training epochs.\n",
    "\n",
    "Hint: [Use the `train_test_split()` method](http://scikit-learn.org/stable/modules/generated/sklearn.model_selection.train_test_split.html) from scikit-learn."
   ]
  },
  {
   "cell_type": "code",
   "execution_count": 8,
   "metadata": {
    "collapsed": false
   },
   "outputs": [
    {
     "name": "stdout",
     "output_type": "stream",
     "text": [
      "Training features and labels randomized and split.\n"
     ]
    }
   ],
   "source": [
    "# Get randomized datasets for training and validation\n",
    "X_train, X_val, Y_train, Y_val = train_test_split(\n",
    "    X_train,\n",
    "    Y_train,\n",
    "    test_size=0.25,\n",
    "    random_state=0xdeadbeef)\n",
    "\n",
    "X_val_mlp = X_val.reshape(-1, flat_img_size)\n",
    "print('Training features and labels randomized and split.')\n",
    "\n",
    "# STOP: Do not change the tests below. Your implementation should pass these tests.\n",
    "assert(round(X_train.shape[0] / float(X_val.shape[0])) == 3), \"The training set is %.3f times larger than the validation set.\" % (X_train.shape[0] / float(X_val.shape[0]))\n",
    "assert(history.history['val_acc'][0] > 0.6), \"The validation accuracy is: %.3f\" % history.history['val_acc'][0]"
   ]
  },
  {
   "cell_type": "code",
   "execution_count": 15,
   "metadata": {
    "collapsed": false
   },
   "outputs": [
    {
     "name": "stdout",
     "output_type": "stream",
     "text": [
      "9803/9803 [==============================] - 0s     \n",
      "\n",
      "Validation accuracy : 95.92%\n"
     ]
    }
   ],
   "source": [
    "loss, acc = model.evaluate(X_val.reshape(-1, flat_img_size), Y_val, verbose=1)\n",
    "print('\\nValidation accuracy : {0:>6.2%}'.format(acc))"
   ]
  },
  {
   "cell_type": "markdown",
   "metadata": {},
   "source": [
    "**Validation Accuracy**: 95.92%"
   ]
  },
  {
   "cell_type": "markdown",
   "metadata": {},
   "source": [
    "## Congratulations\n",
    "You've built a feedforward neural network in Keras!\n",
    "\n",
    "Don't stop here! Next, you'll add a convolutional layer to drive.py."
   ]
  },
  {
   "cell_type": "markdown",
   "metadata": {},
   "source": [
    "## Convolutions\n",
    "Build a new network, similar to your existing network. Before the hidden layer, add a 3x3 [convolutional layer](https://keras.io/layers/convolutional/#convolution2d) with 32 filters and valid padding.\n",
    "\n",
    "Then compile and train the network.\n",
    "\n",
    "Hint 1: The Keras example of a [convolutional neural network](https://github.com/fchollet/keras/blob/master/examples/mnist_cnn.py) for MNIST would be a good example to review.\n",
    "\n",
    "Hint 2: Now that the first layer of the network is a convolutional layer, you no longer need to reshape the input images before passing them to the network. You might need to reload your training data to recover the original shape.\n",
    "\n",
    "Hint 3: Add a [`Flatten()` layer](https://keras.io/layers/core/#flatten) between the convolutional layer and the fully-connected hidden layer."
   ]
  },
  {
   "cell_type": "code",
   "execution_count": 23,
   "metadata": {
    "collapsed": true
   },
   "outputs": [],
   "source": [
    "from keras.layers import Convolution2D, MaxPooling2D, Dropout, Flatten"
   ]
  },
  {
   "cell_type": "code",
   "execution_count": 17,
   "metadata": {
    "collapsed": false
   },
   "outputs": [
    {
     "name": "stdout",
     "output_type": "stream",
     "text": [
      "Train on 29406 samples, validate on 9803 samples\n",
      "Epoch 1/10\n",
      "29406/29406 [==============================] - 3s - loss: 1.0621 - acc: 0.7237 - val_loss: 0.3543 - val_acc: 0.9046\n",
      "Epoch 2/10\n",
      "29406/29406 [==============================] - 3s - loss: 0.2740 - acc: 0.9291 - val_loss: 0.2577 - val_acc: 0.9238\n",
      "Epoch 3/10\n",
      "29406/29406 [==============================] - 3s - loss: 0.1592 - acc: 0.9593 - val_loss: 0.1826 - val_acc: 0.9511\n",
      "Epoch 4/10\n",
      "29406/29406 [==============================] - 3s - loss: 0.1131 - acc: 0.9709 - val_loss: 0.1612 - val_acc: 0.9533\n",
      "Epoch 5/10\n",
      "29406/29406 [==============================] - 3s - loss: 0.0818 - acc: 0.9793 - val_loss: 0.1417 - val_acc: 0.9649\n",
      "Epoch 6/10\n",
      "29406/29406 [==============================] - 3s - loss: 0.0700 - acc: 0.9813 - val_loss: 0.1186 - val_acc: 0.9712\n",
      "Epoch 7/10\n",
      "29406/29406 [==============================] - 3s - loss: 0.0442 - acc: 0.9893 - val_loss: 0.0948 - val_acc: 0.9776\n",
      "Epoch 8/10\n",
      "29406/29406 [==============================] - 3s - loss: 0.0559 - acc: 0.9848 - val_loss: 0.1674 - val_acc: 0.9593\n",
      "Epoch 9/10\n",
      "29406/29406 [==============================] - 3s - loss: 0.0541 - acc: 0.9850 - val_loss: 0.1244 - val_acc: 0.9707\n",
      "Epoch 10/10\n",
      "29406/29406 [==============================] - 3s - loss: 0.0333 - acc: 0.9913 - val_loss: 0.1204 - val_acc: 0.9698\n"
     ]
    }
   ],
   "source": [
    "# TODO: Re-construct the network and add a convolutional layer before the first fully-connected layer.\n",
    "model = Sequential()\n",
    "model.add(Convolution2D(16, 5, 5, border_mode='same', input_shape=(32, 32, 3)))\n",
    "model.add(Activation('relu'))\n",
    "model.add(Flatten())\n",
    "model.add(Dense(128, input_shape=(flat_img_size,), name='hidden1'))\n",
    "model.add(Activation('relu'))\n",
    "model.add(Dense(43, name='output'))\n",
    "model.add(Activation('softmax'))\n",
    "\n",
    "# TODO: Compile and train the model.\n",
    "model.compile(optimizer='adam', loss='categorical_crossentropy', metrics=['accuracy'])\n",
    "\n",
    "history = model.fit(X_train, Y_train, batch_size=128, nb_epoch=10,\n",
    "                    validation_data=(X_val, Y_val), verbose=1)\n",
    "\n",
    "# STOP: Do not change the tests below. Your implementation should pass these tests.\n",
    "assert(history.history['val_acc'][0] > 0.9), \"The validation accuracy is: %.3f\" % history.history['val_acc'][0]"
   ]
  },
  {
   "cell_type": "markdown",
   "metadata": {},
   "source": [
    "**Validation Accuracy**: 96.98%"
   ]
  },
  {
   "cell_type": "markdown",
   "metadata": {},
   "source": [
    "## Pooling\n",
    "Re-construct your network and add a 2x2 [pooling layer](https://keras.io/layers/pooling/#maxpooling2d) immediately following your convolutional layer.\n",
    "\n",
    "Then compile and train the network."
   ]
  },
  {
   "cell_type": "code",
   "execution_count": 22,
   "metadata": {
    "collapsed": false
   },
   "outputs": [
    {
     "name": "stdout",
     "output_type": "stream",
     "text": [
      "Train on 29406 samples, validate on 9803 samples\n",
      "Epoch 1/10\n",
      "29406/29406 [==============================] - 3s - loss: 1.4677 - acc: 0.6262 - val_loss: 0.5605 - val_acc: 0.8510\n",
      "Epoch 2/10\n",
      "29406/29406 [==============================] - 3s - loss: 0.3804 - acc: 0.9073 - val_loss: 0.2562 - val_acc: 0.9417\n",
      "Epoch 3/10\n",
      "29406/29406 [==============================] - 3s - loss: 0.2129 - acc: 0.9497 - val_loss: 0.1899 - val_acc: 0.9546\n",
      "Epoch 4/10\n",
      "29406/29406 [==============================] - 3s - loss: 0.1443 - acc: 0.9677 - val_loss: 0.1553 - val_acc: 0.9637\n",
      "Epoch 5/10\n",
      "29406/29406 [==============================] - 3s - loss: 0.1169 - acc: 0.9721 - val_loss: 0.1583 - val_acc: 0.9575\n",
      "Epoch 6/10\n",
      "29406/29406 [==============================] - 3s - loss: 0.0917 - acc: 0.9777 - val_loss: 0.1211 - val_acc: 0.9689\n",
      "Epoch 7/10\n",
      "29406/29406 [==============================] - 3s - loss: 0.0697 - acc: 0.9829 - val_loss: 0.1095 - val_acc: 0.9728\n",
      "Epoch 8/10\n",
      "29406/29406 [==============================] - 3s - loss: 0.0598 - acc: 0.9857 - val_loss: 0.1227 - val_acc: 0.9677\n",
      "Epoch 9/10\n",
      "29406/29406 [==============================] - 3s - loss: 0.0593 - acc: 0.9852 - val_loss: 0.0931 - val_acc: 0.9779\n",
      "Epoch 10/10\n",
      "29406/29406 [==============================] - 3s - loss: 0.0420 - acc: 0.9904 - val_loss: 0.1053 - val_acc: 0.9736\n"
     ]
    }
   ],
   "source": [
    "# TODO: Re-construct the network and add a pooling layer after the convolutional layer.\n",
    "model = Sequential()\n",
    "model.add(Convolution2D(16, 5, 5, border_mode='same', input_shape=(32, 32, 3)))\n",
    "model.add(Activation('relu'))\n",
    "model.add(MaxPooling2D(pool_size=(2,2)))\n",
    "model.add(Flatten())\n",
    "model.add(Dense(128, input_shape=(flat_img_size,), name='hidden1'))\n",
    "model.add(Activation('relu'))\n",
    "model.add(Dense(43, name='output'))\n",
    "model.add(Activation('softmax'))\n",
    "\n",
    "# TODO: Compile and train the model.\n",
    "model.compile(optimizer='adam', loss='categorical_crossentropy', metrics=['accuracy'])\n",
    "\n",
    "history = model.fit(X_train, Y_train, batch_size=128, nb_epoch=10,\n",
    "                    validation_data=(X_val, Y_val), verbose=1)\n",
    "\n",
    "# STOP: Do not change the tests below. Your implementation should pass these tests.\n",
    "## Fixed bug\n",
    "assert(history.history['val_acc'][-1] > 0.9), \"The validation accuracy is: %.3f\" % history.history['val_acc'][0]"
   ]
  },
  {
   "cell_type": "markdown",
   "metadata": {},
   "source": [
    "**Validation Accuracy**: 97.36%"
   ]
  },
  {
   "cell_type": "markdown",
   "metadata": {},
   "source": [
    "## Dropout\n",
    "Re-construct your network and add [dropout](https://keras.io/layers/core/#dropout) after the pooling layer. Set the dropout rate to 50%."
   ]
  },
  {
   "cell_type": "code",
   "execution_count": 24,
   "metadata": {
    "collapsed": false
   },
   "outputs": [
    {
     "name": "stdout",
     "output_type": "stream",
     "text": [
      "Train on 29406 samples, validate on 9803 samples\n",
      "Epoch 1/10\n",
      "29406/29406 [==============================] - 3s - loss: 1.7220 - acc: 0.5407 - val_loss: 0.7021 - val_acc: 0.7931\n",
      "Epoch 2/10\n",
      "29406/29406 [==============================] - 3s - loss: 0.5794 - acc: 0.8338 - val_loss: 0.3359 - val_acc: 0.9232\n",
      "Epoch 3/10\n",
      "29406/29406 [==============================] - 3s - loss: 0.3784 - acc: 0.8939 - val_loss: 0.2357 - val_acc: 0.9423\n",
      "Epoch 4/10\n",
      "29406/29406 [==============================] - 3s - loss: 0.2891 - acc: 0.9186 - val_loss: 0.1924 - val_acc: 0.9528\n",
      "Epoch 5/10\n",
      "29406/29406 [==============================] - 3s - loss: 0.2478 - acc: 0.9282 - val_loss: 0.1554 - val_acc: 0.9651\n",
      "Epoch 6/10\n",
      "29406/29406 [==============================] - 3s - loss: 0.2049 - acc: 0.9422 - val_loss: 0.1289 - val_acc: 0.9710\n",
      "Epoch 7/10\n",
      "29406/29406 [==============================] - 3s - loss: 0.1738 - acc: 0.9513 - val_loss: 0.1174 - val_acc: 0.9742\n",
      "Epoch 8/10\n",
      "29406/29406 [==============================] - 3s - loss: 0.1648 - acc: 0.9536 - val_loss: 0.1215 - val_acc: 0.9738\n",
      "Epoch 9/10\n",
      "29406/29406 [==============================] - 3s - loss: 0.1480 - acc: 0.9572 - val_loss: 0.1123 - val_acc: 0.9725\n",
      "Epoch 10/10\n",
      "29406/29406 [==============================] - 3s - loss: 0.1384 - acc: 0.9585 - val_loss: 0.0987 - val_acc: 0.9775\n"
     ]
    }
   ],
   "source": [
    "# TODO: Re-construct the network and add dropout after the pooling layer.\n",
    "model = Sequential()\n",
    "model.add(Convolution2D(16, 5, 5, border_mode='same', input_shape=(32, 32, 3)))\n",
    "model.add(Activation('relu'))\n",
    "model.add(MaxPooling2D(pool_size=(2,2)))\n",
    "model.add(Dropout(0.5))\n",
    "model.add(Flatten())\n",
    "model.add(Dense(128, input_shape=(flat_img_size,), name='hidden1'))\n",
    "model.add(Activation('relu'))\n",
    "model.add(Dense(43, name='output'))\n",
    "model.add(Activation('softmax'))\n",
    "\n",
    "# TODO: Compile and train the model.\n",
    "model.compile(optimizer='adam', loss='categorical_crossentropy', metrics=['accuracy'])\n",
    "\n",
    "history = model.fit(X_train, Y_train, batch_size=128, nb_epoch=10,\n",
    "                    validation_data=(X_val, Y_val), verbose=1)\n",
    "\n",
    "# STOP: Do not change the tests below. Your implementation should pass these tests.\n",
    "assert(history.history['val_acc'][-1] > 0.9), \"The validation accuracy is: %.3f\" % history.history['val_acc'][0]"
   ]
  },
  {
   "cell_type": "markdown",
   "metadata": {
    "collapsed": true
   },
   "source": [
    "**Validation Accuracy**: 97.75%"
   ]
  },
  {
   "cell_type": "markdown",
   "metadata": {},
   "source": [
    "## Optimization\n",
    "Congratulations! You've built a neural network with convolutions, pooling, dropout, and fully-connected layers, all in just a few lines of code.\n",
    "\n",
    "Have fun with the model and see how well you can do! Add more layers, or regularization, or different padding, or batches, or more training epochs.\n",
    "\n",
    "What is the best validation accuracy you can achieve?"
   ]
  },
  {
   "cell_type": "code",
   "execution_count": 28,
   "metadata": {
    "collapsed": false
   },
   "outputs": [],
   "source": [
    "pool_size = (2,2)\n",
    "model = Sequential()\n",
    "model.add(Convolution2D(16, 5, 5, border_mode='same', input_shape=(32, 32, 3)))\n",
    "model.add(Activation('relu'))\n",
    "model.add(MaxPooling2D(pool_size=pool_size))\n",
    "model.add(Convolution2D(64, 3, 3))\n",
    "model.add(Activation('relu'))\n",
    "model.add(MaxPooling2D(pool_size=pool_size))\n",
    "model.add(Dropout(0.5))\n",
    "model.add(Convolution2D(128, 3, 3))\n",
    "model.add(Activation('relu'))\n",
    "model.add(MaxPooling2D(pool_size=pool_size))\n",
    "model.add(Dropout(0.5))\n",
    "model.add(Flatten())\n",
    "model.add(Dense(256, input_shape=(flat_img_size,), name='hidden1'))\n",
    "model.add(Activation('relu'))\n",
    "model.add(Dense(43, name='output'))\n",
    "model.add(Activation('softmax'))\n",
    "\n",
    "model.compile(optimizer='adam', loss='categorical_crossentropy', metrics=['accuracy'])"
   ]
  },
  {
   "cell_type": "code",
   "execution_count": 33,
   "metadata": {
    "collapsed": false
   },
   "outputs": [
    {
     "name": "stdout",
     "output_type": "stream",
     "text": [
      "Train on 29406 samples, validate on 9803 samples\n",
      "Epoch 1/20\n",
      "29406/29406 [==============================] - 4s - loss: 0.0727 - acc: 0.9769 - val_loss: 0.0177 - val_acc: 0.9958\n",
      "Epoch 2/20\n",
      "29406/29406 [==============================] - 4s - loss: 0.0785 - acc: 0.9750 - val_loss: 0.0176 - val_acc: 0.9954\n",
      "Epoch 3/20\n",
      "29406/29406 [==============================] - 4s - loss: 0.0735 - acc: 0.9765 - val_loss: 0.0246 - val_acc: 0.9942\n",
      "Epoch 4/20\n",
      "29406/29406 [==============================] - 4s - loss: 0.0721 - acc: 0.9783 - val_loss: 0.0166 - val_acc: 0.9960\n",
      "Epoch 5/20\n",
      "29406/29406 [==============================] - 4s - loss: 0.0697 - acc: 0.9788 - val_loss: 0.0170 - val_acc: 0.9955\n",
      "Epoch 6/20\n",
      "29406/29406 [==============================] - 4s - loss: 0.0631 - acc: 0.9798 - val_loss: 0.0171 - val_acc: 0.9947\n",
      "Epoch 7/20\n",
      "29406/29406 [==============================] - 4s - loss: 0.0773 - acc: 0.9761 - val_loss: 0.0143 - val_acc: 0.9964\n",
      "Epoch 8/20\n",
      "29406/29406 [==============================] - 4s - loss: 0.0641 - acc: 0.9799 - val_loss: 0.0124 - val_acc: 0.9966\n",
      "Epoch 9/20\n",
      "29406/29406 [==============================] - 4s - loss: 0.0708 - acc: 0.9776 - val_loss: 0.0124 - val_acc: 0.9967\n",
      "Epoch 10/20\n",
      "29406/29406 [==============================] - 4s - loss: 0.0674 - acc: 0.9788 - val_loss: 0.0150 - val_acc: 0.9966\n",
      "Epoch 11/20\n",
      "29406/29406 [==============================] - 4s - loss: 0.0611 - acc: 0.9802 - val_loss: 0.0139 - val_acc: 0.9963\n",
      "Epoch 12/20\n",
      "29406/29406 [==============================] - 4s - loss: 0.0584 - acc: 0.9813 - val_loss: 0.0156 - val_acc: 0.9957\n",
      "Epoch 13/20\n",
      "29406/29406 [==============================] - 4s - loss: 0.0604 - acc: 0.9816 - val_loss: 0.0133 - val_acc: 0.9964\n",
      "Epoch 14/20\n",
      "29406/29406 [==============================] - 4s - loss: 0.0694 - acc: 0.9791 - val_loss: 0.0152 - val_acc: 0.9963\n",
      "Epoch 15/20\n",
      "29406/29406 [==============================] - 4s - loss: 0.0602 - acc: 0.9810 - val_loss: 0.0184 - val_acc: 0.9947\n",
      "Epoch 16/20\n",
      "29406/29406 [==============================] - 4s - loss: 0.0609 - acc: 0.9805 - val_loss: 0.0114 - val_acc: 0.9972\n",
      "Epoch 17/20\n",
      "29406/29406 [==============================] - 4s - loss: 0.0617 - acc: 0.9799 - val_loss: 0.0111 - val_acc: 0.9978\n",
      "Epoch 18/20\n",
      "29406/29406 [==============================] - 4s - loss: 0.0595 - acc: 0.9809 - val_loss: 0.0127 - val_acc: 0.9962\n",
      "Epoch 19/20\n",
      "29406/29406 [==============================] - 4s - loss: 0.0581 - acc: 0.9819 - val_loss: 0.0118 - val_acc: 0.9970\n",
      "Epoch 20/20\n",
      "29406/29406 [==============================] - 4s - loss: 0.0588 - acc: 0.9814 - val_loss: 0.0127 - val_acc: 0.9965\n"
     ]
    }
   ],
   "source": [
    "history = model.fit(X_train, Y_train, batch_size=128, nb_epoch=50,\n",
    "                    validation_data=(X_val, Y_val), verbose=1)"
   ]
  },
  {
   "cell_type": "markdown",
   "metadata": {},
   "source": [
    "**Best Validation Accuracy:** 99.65%"
   ]
  },
  {
   "cell_type": "markdown",
   "metadata": {},
   "source": [
    "## Testing\n",
    "Once you've picked out your best model, it's time to test it.\n",
    "\n",
    "Load up the test data and use the [`evaluate()` method](https://keras.io/models/model/#evaluate) to see how well it does.\n",
    "\n",
    "Hint 1: After you load your test data, don't forget to normalize the input and one-hot encode the output, so it matches the training data.\n",
    "\n",
    "Hint 2: The `evaluate()` method should return an array of numbers. Use the `metrics_names()` method to get the labels."
   ]
  },
  {
   "cell_type": "code",
   "execution_count": 35,
   "metadata": {
    "collapsed": false
   },
   "outputs": [
    {
     "name": "stdout",
     "output_type": "stream",
     "text": [
      "12576/12630 [============================>.] - ETA: 0s"
     ]
    },
    {
     "data": {
      "text/plain": [
       "[0.10833839187514692, 0.97157561369387757]"
      ]
     },
     "execution_count": 35,
     "metadata": {},
     "output_type": "execute_result"
    }
   ],
   "source": [
    "# with open('./test.p', mode='rb') as f:\n",
    "#     test = pickle.load(f)\n",
    "    \n",
    "# X_test = test['features']\n",
    "# y_test = test['labels']\n",
    "# X_test = X_test.astype('float32')\n",
    "# X_test /= 255\n",
    "# X_test -= 0.5\n",
    "# Y_test = np_utils.to_categorical(y_test, 43)\n",
    "\n",
    "model.evaluate(X_test, Y_test)"
   ]
  },
  {
   "cell_type": "code",
   "execution_count": 40,
   "metadata": {
    "collapsed": false
   },
   "outputs": [
    {
     "name": "stdout",
     "output_type": "stream",
     "text": [
      "____________________________________________________________________________________________________\n",
      "Layer (type)                     Output Shape          Param #     Connected to                     \n",
      "====================================================================================================\n",
      "convolution2d_11 (Convolution2D) (None, 32, 32, 16)    1216        convolution2d_input_10[0][0]     \n",
      "____________________________________________________________________________________________________\n",
      "activation_23 (Activation)       (None, 32, 32, 16)    0           convolution2d_11[0][0]           \n",
      "____________________________________________________________________________________________________\n",
      "maxpooling2d_8 (MaxPooling2D)    (None, 16, 16, 16)    0           activation_23[0][0]              \n",
      "____________________________________________________________________________________________________\n",
      "convolution2d_12 (Convolution2D) (None, 14, 14, 64)    9280        maxpooling2d_8[0][0]             \n",
      "____________________________________________________________________________________________________\n",
      "activation_24 (Activation)       (None, 14, 14, 64)    0           convolution2d_12[0][0]           \n",
      "____________________________________________________________________________________________________\n",
      "maxpooling2d_9 (MaxPooling2D)    (None, 7, 7, 64)      0           activation_24[0][0]              \n",
      "____________________________________________________________________________________________________\n",
      "dropout_6 (Dropout)              (None, 7, 7, 64)      0           maxpooling2d_9[0][0]             \n",
      "____________________________________________________________________________________________________\n",
      "convolution2d_13 (Convolution2D) (None, 5, 5, 128)     73856       dropout_6[0][0]                  \n",
      "____________________________________________________________________________________________________\n",
      "activation_25 (Activation)       (None, 5, 5, 128)     0           convolution2d_13[0][0]           \n",
      "____________________________________________________________________________________________________\n",
      "maxpooling2d_10 (MaxPooling2D)   (None, 2, 2, 128)     0           activation_25[0][0]              \n",
      "____________________________________________________________________________________________________\n",
      "dropout_7 (Dropout)              (None, 2, 2, 128)     0           maxpooling2d_10[0][0]            \n",
      "____________________________________________________________________________________________________\n",
      "flatten_6 (Flatten)              (None, 512)           0           dropout_7[0][0]                  \n",
      "____________________________________________________________________________________________________\n",
      "hidden1 (Dense)                  (None, 256)           131328      flatten_6[0][0]                  \n",
      "____________________________________________________________________________________________________\n",
      "activation_26 (Activation)       (None, 256)           0           hidden1[0][0]                    \n",
      "____________________________________________________________________________________________________\n",
      "output (Dense)                   (None, 43)            11051       activation_26[0][0]              \n",
      "____________________________________________________________________________________________________\n",
      "activation_27 (Activation)       (None, 43)            0           output[0][0]                     \n",
      "====================================================================================================\n",
      "Total params: 226731\n",
      "____________________________________________________________________________________________________\n"
     ]
    }
   ],
   "source": [
    "model.save('test-acc-9716-epoch50.h5')\n",
    "\n",
    "from keras.models import load_model\n",
    "model2 = load_model('test-acc-9716-epoch50.h5')\n",
    "# model2.evaluate(X_test, Y_test)\n",
    "model2.summary()"
   ]
  },
  {
   "cell_type": "markdown",
   "metadata": {},
   "source": [
    "**Test Accuracy:** 97.15%"
   ]
  },
  {
   "cell_type": "markdown",
   "metadata": {},
   "source": [
    "## Summary\n",
    "Keras is a great tool to use if you want to quickly build a neural network and evaluate performance."
   ]
  }
 ],
 "metadata": {
  "anaconda-cloud": {},
  "kernelspec": {
   "display_name": "Python [conda root]",
   "language": "python",
   "name": "conda-root-py"
  },
  "language_info": {
   "codemirror_mode": {
    "name": "ipython",
    "version": 3
   },
   "file_extension": ".py",
   "mimetype": "text/x-python",
   "name": "python",
   "nbconvert_exporter": "python",
   "pygments_lexer": "ipython3",
   "version": "3.5.2"
  }
 },
 "nbformat": 4,
 "nbformat_minor": 0
}

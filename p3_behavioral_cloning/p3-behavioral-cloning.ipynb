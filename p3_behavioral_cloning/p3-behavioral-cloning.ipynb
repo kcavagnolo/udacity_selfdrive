{
 "cells": [
  {
   "cell_type": "markdown",
   "metadata": {},
   "source": [
    "# Imports"
   ]
  },
  {
   "cell_type": "code",
   "execution_count": 2,
   "metadata": {
    "collapsed": false
   },
   "outputs": [
    {
     "name": "stderr",
     "output_type": "stream",
     "text": [
      "Using TensorFlow backend.\n"
     ]
    }
   ],
   "source": [
    "# general\n",
    "import pandas as pd\n",
    "import numpy as np\n",
    "import errno\n",
    "import json\n",
    "import os\n",
    "import cv2\n",
    "\n",
    "# modeling\n",
    "from keras.models import Sequential, model_from_json\n",
    "from keras.layers import Dense, Dropout, Activation, Flatten, SpatialDropout2D, ELU\n",
    "from keras.layers import Convolution2D, MaxPooling2D, Cropping2D\n",
    "from keras.layers.core import Lambda\n",
    "from keras.optimizers import SGD, Adam, RMSprop\n",
    "from keras.utils import np_utils, plot_model\n",
    "from keras.callbacks import ModelCheckpoint\n",
    "from keras.utils import vis_utils\n",
    "\n",
    "# science\n",
    "from sklearn.model_selection import train_test_split\n",
    "from sklearn.utils import shuffle\n",
    "import scipy.misc\n",
    "from scipy.ndimage import rotate\n",
    "from scipy.stats import bernoulli\n",
    "\n",
    "# plotting\n",
    "from IPython.display import SVG\n",
    "import matplotlib.pyplot as plt\n",
    "import matplotlib.image as mpimg\n",
    "%matplotlib inline"
   ]
  },
  {
   "cell_type": "markdown",
   "metadata": {},
   "source": [
    "# Data"
   ]
  },
  {
   "cell_type": "code",
   "execution_count": 3,
   "metadata": {
    "collapsed": false,
    "scrolled": true
   },
   "outputs": [],
   "source": [
    "# Some useful constants\n",
    "logfile = '../data/simulator/driving_log.csv'\n",
    "imgfiles = '../data/simulator/'\n",
    "scoeff = 0.229"
   ]
  },
  {
   "cell_type": "code",
   "execution_count": 9,
   "metadata": {
    "collapsed": false
   },
   "outputs": [
    {
     "data": {
      "text/html": [
       "<div>\n",
       "<table border=\"1\" class=\"dataframe\">\n",
       "  <thead>\n",
       "    <tr style=\"text-align: right;\">\n",
       "      <th></th>\n",
       "      <th>center</th>\n",
       "      <th>left</th>\n",
       "      <th>right</th>\n",
       "      <th>steering</th>\n",
       "      <th>throttle</th>\n",
       "      <th>brake</th>\n",
       "      <th>speed</th>\n",
       "    </tr>\n",
       "  </thead>\n",
       "  <tbody>\n",
       "    <tr>\n",
       "      <th>0</th>\n",
       "      <td>IMG/center_2016_12_01_13_30_48_287.jpg</td>\n",
       "      <td>IMG/left_2016_12_01_13_30_48_287.jpg</td>\n",
       "      <td>IMG/right_2016_12_01_13_30_48_287.jpg</td>\n",
       "      <td>0.0</td>\n",
       "      <td>0.0</td>\n",
       "      <td>0.0</td>\n",
       "      <td>22.148290</td>\n",
       "    </tr>\n",
       "    <tr>\n",
       "      <th>1</th>\n",
       "      <td>IMG/center_2016_12_01_13_30_48_404.jpg</td>\n",
       "      <td>IMG/left_2016_12_01_13_30_48_404.jpg</td>\n",
       "      <td>IMG/right_2016_12_01_13_30_48_404.jpg</td>\n",
       "      <td>0.0</td>\n",
       "      <td>0.0</td>\n",
       "      <td>0.0</td>\n",
       "      <td>21.879630</td>\n",
       "    </tr>\n",
       "    <tr>\n",
       "      <th>2</th>\n",
       "      <td>IMG/center_2016_12_01_13_31_12_937.jpg</td>\n",
       "      <td>IMG/left_2016_12_01_13_31_12_937.jpg</td>\n",
       "      <td>IMG/right_2016_12_01_13_31_12_937.jpg</td>\n",
       "      <td>0.0</td>\n",
       "      <td>0.0</td>\n",
       "      <td>0.0</td>\n",
       "      <td>1.453011</td>\n",
       "    </tr>\n",
       "    <tr>\n",
       "      <th>3</th>\n",
       "      <td>IMG/center_2016_12_01_13_31_13_037.jpg</td>\n",
       "      <td>IMG/left_2016_12_01_13_31_13_037.jpg</td>\n",
       "      <td>IMG/right_2016_12_01_13_31_13_037.jpg</td>\n",
       "      <td>0.0</td>\n",
       "      <td>0.0</td>\n",
       "      <td>0.0</td>\n",
       "      <td>1.438419</td>\n",
       "    </tr>\n",
       "    <tr>\n",
       "      <th>4</th>\n",
       "      <td>IMG/center_2016_12_01_13_31_13_177.jpg</td>\n",
       "      <td>IMG/left_2016_12_01_13_31_13_177.jpg</td>\n",
       "      <td>IMG/right_2016_12_01_13_31_13_177.jpg</td>\n",
       "      <td>0.0</td>\n",
       "      <td>0.0</td>\n",
       "      <td>0.0</td>\n",
       "      <td>1.418236</td>\n",
       "    </tr>\n",
       "  </tbody>\n",
       "</table>\n",
       "</div>"
      ],
      "text/plain": [
       "                                   center  \\\n",
       "0  IMG/center_2016_12_01_13_30_48_287.jpg   \n",
       "1  IMG/center_2016_12_01_13_30_48_404.jpg   \n",
       "2  IMG/center_2016_12_01_13_31_12_937.jpg   \n",
       "3  IMG/center_2016_12_01_13_31_13_037.jpg   \n",
       "4  IMG/center_2016_12_01_13_31_13_177.jpg   \n",
       "\n",
       "                                    left  \\\n",
       "0   IMG/left_2016_12_01_13_30_48_287.jpg   \n",
       "1   IMG/left_2016_12_01_13_30_48_404.jpg   \n",
       "2   IMG/left_2016_12_01_13_31_12_937.jpg   \n",
       "3   IMG/left_2016_12_01_13_31_13_037.jpg   \n",
       "4   IMG/left_2016_12_01_13_31_13_177.jpg   \n",
       "\n",
       "                                    right  steering  throttle  brake  \\\n",
       "0   IMG/right_2016_12_01_13_30_48_287.jpg       0.0       0.0    0.0   \n",
       "1   IMG/right_2016_12_01_13_30_48_404.jpg       0.0       0.0    0.0   \n",
       "2   IMG/right_2016_12_01_13_31_12_937.jpg       0.0       0.0    0.0   \n",
       "3   IMG/right_2016_12_01_13_31_13_037.jpg       0.0       0.0    0.0   \n",
       "4   IMG/right_2016_12_01_13_31_13_177.jpg       0.0       0.0    0.0   \n",
       "\n",
       "       speed  \n",
       "0  22.148290  \n",
       "1  21.879630  \n",
       "2   1.453011  \n",
       "3   1.438419  \n",
       "4   1.418236  "
      ]
     },
     "execution_count": 9,
     "metadata": {},
     "output_type": "execute_result"
    }
   ],
   "source": [
    "df = pd.read_csv(logfile)\n",
    "df.head()"
   ]
  },
  {
   "cell_type": "code",
   "execution_count": 18,
   "metadata": {
    "collapsed": false
   },
   "outputs": [],
   "source": [
    "df2 = df.copy()"
   ]
  },
  {
   "cell_type": "code",
   "execution_count": 21,
   "metadata": {
    "collapsed": false
   },
   "outputs": [],
   "source": [
    "df2.drop(['center', 'left', 'right'], axis=1, inplace=True)"
   ]
  },
  {
   "cell_type": "code",
   "execution_count": 33,
   "metadata": {
    "collapsed": false
   },
   "outputs": [
    {
     "data": {
      "image/png": "[encoded data removed]",
      "text/plain": [
       "<matplotlib.figure.Figure at 0x7f62f400e828>"
      ]
     },
     "metadata": {},
     "output_type": "display_data"
    }
   ],
   "source": [
    "df2.hist(alpha=0.5, bins=50, figsize=(10,8), log=True);"
   ]
  },
  {
   "cell_type": "markdown",
   "metadata": {},
   "source": [
    "Steering angle range is too narrow and needs to be augmented. The simplest route to this is to create a wide variety of random distortions of the training data. See this below."
   ]
  },
  {
   "cell_type": "markdown",
   "metadata": {},
   "source": [
    "# Augment"
   ]
  },
  {
   "cell_type": "code",
   "execution_count": 3,
   "metadata": {
    "collapsed": true
   },
   "outputs": [],
   "source": [
    "def crop(image, ceiling, floor):\n",
    "    assert 0 <= ceiling < 0.5, 'invalid ceiling; 0.0-0.5 but used {}'.format(ceiling)\n",
    "    assert 0 <= floor < 0.5, 'invalid floor; 0.0-0.5 but used {}'.format(floor)\n",
    "    top = int(np.ceil(image.shape[0] * ceiling))\n",
    "    bottom = image.shape[0] - int(np.ceil(image.shape[0] * floor))\n",
    "    return image[top:bottom, :]"
   ]
  },
  {
   "cell_type": "code",
   "execution_count": 4,
   "metadata": {
    "collapsed": true
   },
   "outputs": [],
   "source": [
    "def resize(img, new_dim):\n",
    "    return scipy.misc.imresize(img, new_dim)"
   ]
  },
  {
   "cell_type": "code",
   "execution_count": 5,
   "metadata": {
    "collapsed": true
   },
   "outputs": [],
   "source": [
    "def randflip(img, steering_angle, flipping_prob=0.5):\n",
    "    head = bernoulli.rvs(flipping_prob)\n",
    "    if head:\n",
    "        return np.fliplr(img), -1 * steering_angle\n",
    "    else:\n",
    "        return img, steering_angle"
   ]
  },
  {
   "cell_type": "code",
   "execution_count": 6,
   "metadata": {
    "collapsed": true
   },
   "outputs": [],
   "source": [
    "def randgamma(img):\n",
    "    gamma = np.random.uniform(0.4, 1.5)\n",
    "    inv_gamma = 1.0 / gamma\n",
    "    table = np.array([((i / 255.0) ** inv_gamma) * 255\n",
    "                      for i in np.arange(0, 256)]).astype(\"uint8\")\n",
    "    return cv2.LUT(img, table)"
   ]
  },
  {
   "cell_type": "code",
   "execution_count": 7,
   "metadata": {
    "collapsed": true
   },
   "outputs": [],
   "source": [
    "def randshear(img, steering_angle, shear_range=200):\n",
    "    rows, cols, ch = img.shape\n",
    "    dx = np.random.randint(-shear_range, shear_range + 1)\n",
    "    randpoint = [cols / 2 + dx, rows / 2]\n",
    "    pts1 = np.float32([[0, rows], [cols, rows], [cols / 2, rows / 2]])\n",
    "    pts2 = np.float32([[0, rows], [cols, rows], randpoint])\n",
    "    dsteering = dx / (rows / 2) * 360 / (2 * np.pi * 25.0) / 6.0\n",
    "    M = cv2.getAffineTransform(pts1, pts2)\n",
    "    img = cv2.warpAffine(img, M, (cols, rows), borderMode=1)\n",
    "    steering_angle += dsteering\n",
    "    return img, steering_angle"
   ]
  },
  {
   "cell_type": "code",
   "execution_count": 8,
   "metadata": {
    "collapsed": true
   },
   "outputs": [],
   "source": [
    "def randrotation(img, steering_angle, rotation_amount=15):\n",
    "    angle = np.random.uniform(-rotation_amount, rotation_amount + 1)\n",
    "    rad = (np.pi / 180.0) * angle\n",
    "    return rotate(img, angle, reshape=False), steering_angle + (-1) * rad"
   ]
  },
  {
   "cell_type": "code",
   "execution_count": 9,
   "metadata": {
    "collapsed": true
   },
   "outputs": [],
   "source": [
    "def min_max(data, a=-0.5, b=0.5):\n",
    "    data_max = np.max(data)\n",
    "    data_min = np.min(data)\n",
    "    return a + (b - a) * ((data - data_min) / (data_max - data_min))"
   ]
  },
  {
   "cell_type": "code",
   "execution_count": 10,
   "metadata": {
    "collapsed": true
   },
   "outputs": [],
   "source": [
    "def gen_new_image(img, steering_angle, top_crop_percent=0.35, bottom_crop_percent=0.1,\n",
    "                       resize_dim=(64, 64), do_shear_prob=0.9):\n",
    "    head = bernoulli.rvs(do_shear_prob)\n",
    "    if head == 1:\n",
    "        img, steering_angle = randshear(img, steering_angle)\n",
    "    img = crop(img, top_crop_percent, bottom_crop_percent)\n",
    "    img, steering_angle = randflip(img, steering_angle)\n",
    "    img = randgamma(img)\n",
    "    img = resize(img, resize_dim)\n",
    "    return img, steering_angle"
   ]
  },
  {
   "cell_type": "code",
   "execution_count": 11,
   "metadata": {
    "collapsed": true
   },
   "outputs": [],
   "source": [
    "def get_next_image(batch_size=64):\n",
    "    data = pd.read_csv(logfile)\n",
    "    num_of_img = len(data)\n",
    "    rnd_indices = np.random.randint(0, num_of_img, batch_size)\n",
    "\n",
    "    image_files_and_angles = []\n",
    "    for index in rnd_indices:\n",
    "        rnd_image = np.random.randint(0, 3)\n",
    "        if rnd_image == 0:\n",
    "            img = data.iloc[index]['left'].strip()\n",
    "            angle = data.iloc[index]['steering'] + scoeff\n",
    "            image_files_and_angles.append((img, angle))\n",
    "\n",
    "        elif rnd_image == 1:\n",
    "            img = data.iloc[index]['center'].strip()\n",
    "            angle = data.iloc[index]['steering']\n",
    "            image_files_and_angles.append((img, angle))\n",
    "        else:\n",
    "            img = data.iloc[index]['right'].strip()\n",
    "            angle = data.iloc[index]['steering'] - scoeff\n",
    "            image_files_and_angles.append((img, angle))\n",
    "    return image_files_and_angles"
   ]
  },
  {
   "cell_type": "code",
   "execution_count": 12,
   "metadata": {
    "collapsed": true
   },
   "outputs": [],
   "source": [
    "def gen_next_batch(batch_size=64):\n",
    "    while True:\n",
    "        X_batch = []\n",
    "        y_batch = []\n",
    "        images = get_next_image(batch_size)\n",
    "        for img_file, angle in images:\n",
    "            raw_image = plt.imread(imgfiles + img_file)\n",
    "            raw_angle = angle\n",
    "            new_image, new_angle = gen_new_image(raw_image, raw_angle)\n",
    "            X_batch.append(new_image)\n",
    "            y_batch.append(new_angle)\n",
    "        assert len(X_batch) == batch_size, 'require len(X_batch) == batch_size.'\n",
    "        yield np.array(X_batch), np.array(y_batch)"
   ]
  },
  {
   "cell_type": "code",
   "execution_count": 13,
   "metadata": {
    "collapsed": true
   },
   "outputs": [],
   "source": [
    "def save_model(model, model_name='model.json', weights_name='model.h5'):\n",
    "    try:\n",
    "        os.remove(model_name)\n",
    "        os.remove(weights_name)\n",
    "    except OSError as error:\n",
    "        if error.errno != errno.ENOENT:\n",
    "            raise\n",
    "    json_string = model.to_json()\n",
    "    with open(model_name, 'w') as outfile:\n",
    "        json.dump(json_string, outfile)\n",
    "    model.save_weights(weights_name)"
   ]
  },
  {
   "cell_type": "markdown",
   "metadata": {},
   "source": [
    "# Model"
   ]
  },
  {
   "cell_type": "code",
   "execution_count": 14,
   "metadata": {
    "collapsed": false,
    "scrolled": false
   },
   "outputs": [
    {
     "name": "stdout",
     "output_type": "stream",
     "text": [
      "_________________________________________________________________\n",
      "Layer (type)                 Output Shape              Param #   \n",
      "=================================================================\n",
      "lambda_1 (Lambda)            (None, 64, 64, 3)         0         \n",
      "_________________________________________________________________\n",
      "conv2d_1 (Conv2D)            (None, 32, 32, 24)        1824      \n",
      "_________________________________________________________________\n",
      "activation_1 (Activation)    (None, 32, 32, 24)        0         \n",
      "_________________________________________________________________\n",
      "max_pooling2d_1 (MaxPooling2 (None, 31, 31, 24)        0         \n",
      "_________________________________________________________________\n",
      "conv2d_2 (Conv2D)            (None, 16, 16, 36)        21636     \n",
      "_________________________________________________________________\n",
      "activation_2 (Activation)    (None, 16, 16, 36)        0         \n",
      "_________________________________________________________________\n",
      "max_pooling2d_2 (MaxPooling2 (None, 15, 15, 36)        0         \n",
      "_________________________________________________________________\n",
      "conv2d_3 (Conv2D)            (None, 8, 8, 48)          43248     \n",
      "_________________________________________________________________\n",
      "activation_3 (Activation)    (None, 8, 8, 48)          0         \n",
      "_________________________________________________________________\n",
      "max_pooling2d_3 (MaxPooling2 (None, 7, 7, 48)          0         \n",
      "_________________________________________________________________\n",
      "conv2d_4 (Conv2D)            (None, 7, 7, 64)          27712     \n",
      "_________________________________________________________________\n",
      "activation_4 (Activation)    (None, 7, 7, 64)          0         \n",
      "_________________________________________________________________\n",
      "max_pooling2d_4 (MaxPooling2 (None, 6, 6, 64)          0         \n",
      "_________________________________________________________________\n",
      "conv2d_5 (Conv2D)            (None, 6, 6, 64)          36928     \n",
      "_________________________________________________________________\n",
      "activation_5 (Activation)    (None, 6, 6, 64)          0         \n",
      "_________________________________________________________________\n",
      "max_pooling2d_5 (MaxPooling2 (None, 5, 5, 64)          0         \n",
      "_________________________________________________________________\n",
      "flatten_1 (Flatten)          (None, 1600)              0         \n",
      "_________________________________________________________________\n",
      "dense_1 (Dense)              (None, 1164)              1863564   \n",
      "_________________________________________________________________\n",
      "activation_6 (Activation)    (None, 1164)              0         \n",
      "_________________________________________________________________\n",
      "dense_2 (Dense)              (None, 100)               116500    \n",
      "_________________________________________________________________\n",
      "activation_7 (Activation)    (None, 100)               0         \n",
      "_________________________________________________________________\n",
      "dense_3 (Dense)              (None, 50)                5050      \n",
      "_________________________________________________________________\n",
      "activation_8 (Activation)    (None, 50)                0         \n",
      "_________________________________________________________________\n",
      "dense_4 (Dense)              (None, 10)                510       \n",
      "_________________________________________________________________\n",
      "activation_9 (Activation)    (None, 10)                0         \n",
      "_________________________________________________________________\n",
      "dense_5 (Dense)              (None, 1)                 11        \n",
      "=================================================================\n",
      "Total params: 2,116,983.0\n",
      "Trainable params: 2,116,983.0\n",
      "Non-trainable params: 0.0\n",
      "_________________________________________________________________\n"
     ]
    },
    {
     "name": "stderr",
     "output_type": "stream",
     "text": [
      "/opt/conda/lib/python3.5/site-packages/ipykernel/__main__.py:9: UserWarning: Update your `Conv2D` call to the Keras 2 API: `Conv2D(24, (5, 5), strides=(2, 2), padding=\"same\")`\n",
      "/opt/conda/lib/python3.5/site-packages/ipykernel/__main__.py:13: UserWarning: Update your `Conv2D` call to the Keras 2 API: `Conv2D(36, (5, 5), strides=(2, 2), padding=\"same\")`\n",
      "/opt/conda/lib/python3.5/site-packages/ipykernel/__main__.py:17: UserWarning: Update your `Conv2D` call to the Keras 2 API: `Conv2D(48, (5, 5), strides=(2, 2), padding=\"same\")`\n",
      "/opt/conda/lib/python3.5/site-packages/ipykernel/__main__.py:21: UserWarning: Update your `Conv2D` call to the Keras 2 API: `Conv2D(64, (3, 3), strides=(1, 1), padding=\"same\")`\n",
      "/opt/conda/lib/python3.5/site-packages/ipykernel/__main__.py:25: UserWarning: Update your `Conv2D` call to the Keras 2 API: `Conv2D(64, (3, 3), strides=(1, 1), padding=\"same\")`\n"
     ]
    }
   ],
   "source": [
    "# nvidia model\n",
    "# https://images.nvidia.com/content/tegra/automotive/images/2016/solutions/pdf/end-to-end-dl-using-px.pdf\n",
    "\n",
    "model = Sequential()\n",
    "\n",
    "model.add(Lambda(lambda x: x / 127.5 - 1.0, input_shape=(64, 64, 3)))\n",
    "\n",
    "# five conv and pooling\n",
    "model.add(Convolution2D(24, 5, 5, border_mode='same', subsample=(2, 2)))\n",
    "model.add(Activation('relu'))\n",
    "model.add(MaxPooling2D(pool_size=(2, 2), strides=(1, 1)))\n",
    "\n",
    "model.add(Convolution2D(36, 5, 5, border_mode='same', subsample=(2, 2)))\n",
    "model.add(Activation('relu'))\n",
    "model.add(MaxPooling2D(pool_size=(2, 2), strides=(1, 1)))\n",
    "\n",
    "model.add(Convolution2D(48, 5, 5, border_mode='same', subsample=(2, 2)))\n",
    "model.add(Activation('relu'))\n",
    "model.add(MaxPooling2D(pool_size=(2, 2), strides=(1, 1)))\n",
    "\n",
    "model.add(Convolution2D(64, 3, 3, border_mode='same', subsample=(1, 1)))\n",
    "model.add(Activation('relu'))\n",
    "model.add(MaxPooling2D(pool_size=(2, 2), strides=(1, 1)))\n",
    "\n",
    "model.add(Convolution2D(64, 3, 3, border_mode='same', subsample=(1, 1)))\n",
    "model.add(Activation('relu'))\n",
    "model.add(MaxPooling2D(pool_size=(2, 2), strides=(1, 1)))\n",
    "\n",
    "model.add(Flatten())\n",
    "\n",
    "# five fully connected\n",
    "model.add(Dense(1164))\n",
    "model.add(Activation('relu'))\n",
    "\n",
    "model.add(Dense(100))\n",
    "model.add(Activation('relu'))\n",
    "\n",
    "model.add(Dense(50))\n",
    "model.add(Activation('relu'))\n",
    "\n",
    "model.add(Dense(10))\n",
    "model.add(Activation('relu'))\n",
    "\n",
    "model.add(Dense(1))\n",
    "\n",
    "model.summary()\n",
    "\n",
    "learning_rate = 1e-4\n",
    "model.compile(optimizer=Adam(learning_rate), loss=\"mse\", )"
   ]
  },
  {
   "cell_type": "code",
   "execution_count": null,
   "metadata": {
    "collapsed": true
   },
   "outputs": [],
   "source": [
    "# visualize\n",
    "plot_model(model, to_file='model.png')\n",
    "#SVG(vis_utils.model_to_dot(model).create(prog='dot', format='svg'))"
   ]
  },
  {
   "cell_type": "markdown",
   "metadata": {},
   "source": [
    "# Training"
   ]
  },
  {
   "cell_type": "code",
   "execution_count": null,
   "metadata": {
    "collapsed": false
   },
   "outputs": [],
   "source": [
    "# hyperparams\n",
    "number_of_epochs = 20\n",
    "number_of_samples_per_epoch = 20000\n",
    "number_of_validation_samples = 0.2*number_of_samples_per_epoch\n",
    "\n",
    "# create two generators for training and validation\n",
    "train_gen = gen_next_batch()\n",
    "validation_gen = gen_next_batch()\n",
    "checkpointer = ModelCheckpoint(filepath=\"/tmp/behclone.{epoch:02d}-{val_loss:.2f}.hdf5\",\n",
    "                               verbose=1,\n",
    "                               save_best_only=False)\n",
    "history = model.fit_generator(train_gen,\n",
    "                              samples_per_epoch=number_of_samples_per_epoch,\n",
    "                              nb_epoch=number_of_epochs,\n",
    "                              validation_data=validation_gen,\n",
    "                              nb_val_samples=number_of_validation_samples,\n",
    "                              callbacks=[checkpointer],\n",
    "                              verbose=1)"
   ]
  },
  {
   "cell_type": "code",
   "execution_count": null,
   "metadata": {
    "collapsed": true
   },
   "outputs": [],
   "source": [
    "print(\"Saving model...\")\n",
    "save_model(model)\n",
    "print(\"Model saved.\")\n",
    "print(\"Done\")"
   ]
  },
  {
   "cell_type": "code",
   "execution_count": 34,
   "metadata": {
    "collapsed": false
   },
   "outputs": [
    {
     "name": "stdout",
     "output_type": "stream",
     "text": [
      "[NbConvertApp] Converting notebook p3-behavioral-cloning.ipynb to script\n",
      "[NbConvertApp] Writing 8413 bytes to p3-behavioral-cloning.py\n"
     ]
    }
   ],
   "source": [
    "!jupyter nbconvert --to script p3-behavioral-cloning.ipynb"
   ]
  },
  {
   "cell_type": "code",
   "execution_count": null,
   "metadata": {
    "collapsed": false
   },
   "outputs": [],
   "source": [
    "!python video.py ../data/simulator/IMG\n",
    "!mv ../data/simulator/IMG.mp4 movie.mp4"
   ]
  }
 ],
 "metadata": {
  "anaconda-cloud": {},
  "hide_input": false,
  "kernelspec": {
   "display_name": "Python [default]",
   "language": "python",
   "name": "python3"
  },
  "language_info": {
   "codemirror_mode": {
    "name": "ipython",
    "version": 3
   },
   "file_extension": ".py",
   "mimetype": "text/x-python",
   "name": "python",
   "nbconvert_exporter": "python",
   "pygments_lexer": "ipython3",
   "version": "3.5.2"
  }
 },
 "nbformat": 4,
 "nbformat_minor": 1
}
